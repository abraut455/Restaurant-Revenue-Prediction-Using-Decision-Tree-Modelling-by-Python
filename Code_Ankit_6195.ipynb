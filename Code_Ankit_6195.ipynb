{
 "cells": [
  {
   "cell_type": "markdown",
   "metadata": {},
   "source": [
    "# Reading the data into python\n",
    "This is one of the most important steps in machine learning! You must understand the data and the domain well before trying to apply any machine learning algorithm.\n",
    "\n",
    "The data has one file \"CarPricesData.csv\". This file contains 1435 car prices data."
   ]
  },
  {
   "cell_type": "markdown",
   "metadata": {},
   "source": [
    "## Data description\n",
    "The business meaning of each column in the data is as below. This is present as\n",
    "an excel file named Data Dictionary / Business Dictionary\n",
    "\n"
   ]
  },
  {
   "cell_type": "code",
   "execution_count": 1,
   "metadata": {},
   "outputs": [],
   "source": [
    "# Supressing the warning messages\n",
    "import warnings\n",
    "warnings.filterwarnings('ignore')"
   ]
  },
  {
   "cell_type": "code",
   "execution_count": 1,
   "metadata": {},
   "outputs": [
    {
     "name": "stdout",
     "output_type": "stream",
     "text": [
      "Shape before deleting duplicate values: (8368, 17)\n"
     ]
    },
    {
     "data": {
      "text/html": [
       "<div>\n",
       "<style scoped>\n",
       "    .dataframe tbody tr th:only-of-type {\n",
       "        vertical-align: middle;\n",
       "    }\n",
       "\n",
       "    .dataframe tbody tr th {\n",
       "        vertical-align: top;\n",
       "    }\n",
       "\n",
       "    .dataframe thead th {\n",
       "        text-align: right;\n",
       "    }\n",
       "</style>\n",
       "<table border=\"1\" class=\"dataframe\">\n",
       "  <thead>\n",
       "    <tr style=\"text-align: right;\">\n",
       "      <th></th>\n",
       "      <th>Name</th>\n",
       "      <th>Location</th>\n",
       "      <th>Cuisine</th>\n",
       "      <th>Rating</th>\n",
       "      <th>Seating Capacity</th>\n",
       "      <th>Average Meal Price</th>\n",
       "      <th>Marketing Budget</th>\n",
       "      <th>Social Media Followers</th>\n",
       "      <th>Chef Experience Years</th>\n",
       "      <th>Number of Reviews</th>\n",
       "      <th>Avg Review Length</th>\n",
       "      <th>Ambience Score</th>\n",
       "      <th>Service Quality Score</th>\n",
       "      <th>Parking Availability</th>\n",
       "      <th>Weekend Reservations</th>\n",
       "      <th>Weekday Reservations</th>\n",
       "      <th>Revenue</th>\n",
       "    </tr>\n",
       "  </thead>\n",
       "  <tbody>\n",
       "    <tr>\n",
       "      <th>0</th>\n",
       "      <td>Restaurant 0</td>\n",
       "      <td>Rural</td>\n",
       "      <td>Japanese</td>\n",
       "      <td>4.0</td>\n",
       "      <td>38</td>\n",
       "      <td>73.98</td>\n",
       "      <td>2224</td>\n",
       "      <td>23406</td>\n",
       "      <td>13</td>\n",
       "      <td>185</td>\n",
       "      <td>161.924906</td>\n",
       "      <td>1.3</td>\n",
       "      <td>7.0</td>\n",
       "      <td>Yes</td>\n",
       "      <td>13</td>\n",
       "      <td>4</td>\n",
       "      <td>638945.52</td>\n",
       "    </tr>\n",
       "    <tr>\n",
       "      <th>1</th>\n",
       "      <td>Restaurant 1</td>\n",
       "      <td>Downtown</td>\n",
       "      <td>Mexican</td>\n",
       "      <td>3.2</td>\n",
       "      <td>76</td>\n",
       "      <td>28.11</td>\n",
       "      <td>4416</td>\n",
       "      <td>42741</td>\n",
       "      <td>8</td>\n",
       "      <td>533</td>\n",
       "      <td>148.759717</td>\n",
       "      <td>2.6</td>\n",
       "      <td>3.4</td>\n",
       "      <td>Yes</td>\n",
       "      <td>48</td>\n",
       "      <td>6</td>\n",
       "      <td>490207.83</td>\n",
       "    </tr>\n",
       "    <tr>\n",
       "      <th>2</th>\n",
       "      <td>Restaurant 2</td>\n",
       "      <td>Rural</td>\n",
       "      <td>Italian</td>\n",
       "      <td>4.7</td>\n",
       "      <td>48</td>\n",
       "      <td>48.29</td>\n",
       "      <td>2796</td>\n",
       "      <td>37285</td>\n",
       "      <td>18</td>\n",
       "      <td>853</td>\n",
       "      <td>56.849189</td>\n",
       "      <td>5.3</td>\n",
       "      <td>6.7</td>\n",
       "      <td>No</td>\n",
       "      <td>27</td>\n",
       "      <td>14</td>\n",
       "      <td>541368.62</td>\n",
       "    </tr>\n",
       "    <tr>\n",
       "      <th>3</th>\n",
       "      <td>Restaurant 3</td>\n",
       "      <td>Rural</td>\n",
       "      <td>Italian</td>\n",
       "      <td>4.4</td>\n",
       "      <td>34</td>\n",
       "      <td>51.55</td>\n",
       "      <td>1167</td>\n",
       "      <td>15214</td>\n",
       "      <td>13</td>\n",
       "      <td>82</td>\n",
       "      <td>205.433265</td>\n",
       "      <td>4.6</td>\n",
       "      <td>2.8</td>\n",
       "      <td>Yes</td>\n",
       "      <td>9</td>\n",
       "      <td>17</td>\n",
       "      <td>404556.80</td>\n",
       "    </tr>\n",
       "    <tr>\n",
       "      <th>4</th>\n",
       "      <td>Restaurant 4</td>\n",
       "      <td>Downtown</td>\n",
       "      <td>Japanese</td>\n",
       "      <td>4.9</td>\n",
       "      <td>88</td>\n",
       "      <td>75.98</td>\n",
       "      <td>3639</td>\n",
       "      <td>40171</td>\n",
       "      <td>9</td>\n",
       "      <td>78</td>\n",
       "      <td>241.681584</td>\n",
       "      <td>8.6</td>\n",
       "      <td>2.1</td>\n",
       "      <td>No</td>\n",
       "      <td>37</td>\n",
       "      <td>26</td>\n",
       "      <td>1491046.35</td>\n",
       "    </tr>\n",
       "    <tr>\n",
       "      <th>...</th>\n",
       "      <td>...</td>\n",
       "      <td>...</td>\n",
       "      <td>...</td>\n",
       "      <td>...</td>\n",
       "      <td>...</td>\n",
       "      <td>...</td>\n",
       "      <td>...</td>\n",
       "      <td>...</td>\n",
       "      <td>...</td>\n",
       "      <td>...</td>\n",
       "      <td>...</td>\n",
       "      <td>...</td>\n",
       "      <td>...</td>\n",
       "      <td>...</td>\n",
       "      <td>...</td>\n",
       "      <td>...</td>\n",
       "      <td>...</td>\n",
       "    </tr>\n",
       "    <tr>\n",
       "      <th>8363</th>\n",
       "      <td>Restaurant 8363</td>\n",
       "      <td>Suburban</td>\n",
       "      <td>Indian</td>\n",
       "      <td>3.4</td>\n",
       "      <td>54</td>\n",
       "      <td>34.85</td>\n",
       "      <td>1102</td>\n",
       "      <td>11298</td>\n",
       "      <td>11</td>\n",
       "      <td>380</td>\n",
       "      <td>253.919515</td>\n",
       "      <td>9.5</td>\n",
       "      <td>5.0</td>\n",
       "      <td>Yes</td>\n",
       "      <td>37</td>\n",
       "      <td>0</td>\n",
       "      <td>434653.45</td>\n",
       "    </tr>\n",
       "    <tr>\n",
       "      <th>8364</th>\n",
       "      <td>Restaurant 8364</td>\n",
       "      <td>Rural</td>\n",
       "      <td>Indian</td>\n",
       "      <td>3.7</td>\n",
       "      <td>49</td>\n",
       "      <td>36.88</td>\n",
       "      <td>1988</td>\n",
       "      <td>20432</td>\n",
       "      <td>9</td>\n",
       "      <td>713</td>\n",
       "      <td>175.590194</td>\n",
       "      <td>2.7</td>\n",
       "      <td>2.6</td>\n",
       "      <td>No</td>\n",
       "      <td>37</td>\n",
       "      <td>21</td>\n",
       "      <td>414977.92</td>\n",
       "    </tr>\n",
       "    <tr>\n",
       "      <th>8365</th>\n",
       "      <td>Restaurant 8365</td>\n",
       "      <td>Downtown</td>\n",
       "      <td>Italian</td>\n",
       "      <td>4.7</td>\n",
       "      <td>88</td>\n",
       "      <td>46.87</td>\n",
       "      <td>5949</td>\n",
       "      <td>63945</td>\n",
       "      <td>6</td>\n",
       "      <td>436</td>\n",
       "      <td>222.953647</td>\n",
       "      <td>4.8</td>\n",
       "      <td>1.7</td>\n",
       "      <td>Yes</td>\n",
       "      <td>83</td>\n",
       "      <td>21</td>\n",
       "      <td>930395.87</td>\n",
       "    </tr>\n",
       "    <tr>\n",
       "      <th>8366</th>\n",
       "      <td>Restaurant 8366</td>\n",
       "      <td>Rural</td>\n",
       "      <td>American</td>\n",
       "      <td>3.1</td>\n",
       "      <td>31</td>\n",
       "      <td>44.53</td>\n",
       "      <td>707</td>\n",
       "      <td>7170</td>\n",
       "      <td>1</td>\n",
       "      <td>729</td>\n",
       "      <td>178.482851</td>\n",
       "      <td>6.1</td>\n",
       "      <td>2.1</td>\n",
       "      <td>No</td>\n",
       "      <td>6</td>\n",
       "      <td>21</td>\n",
       "      <td>311493.48</td>\n",
       "    </tr>\n",
       "    <tr>\n",
       "      <th>8367</th>\n",
       "      <td>Restaurant 8367</td>\n",
       "      <td>Rural</td>\n",
       "      <td>Japanese</td>\n",
       "      <td>4.0</td>\n",
       "      <td>33</td>\n",
       "      <td>71.07</td>\n",
       "      <td>2003</td>\n",
       "      <td>24268</td>\n",
       "      <td>8</td>\n",
       "      <td>197</td>\n",
       "      <td>151.838065</td>\n",
       "      <td>5.9</td>\n",
       "      <td>7.5</td>\n",
       "      <td>Yes</td>\n",
       "      <td>5</td>\n",
       "      <td>12</td>\n",
       "      <td>534142.98</td>\n",
       "    </tr>\n",
       "  </tbody>\n",
       "</table>\n",
       "<p>8368 rows × 17 columns</p>\n",
       "</div>"
      ],
      "text/plain": [
       "                 Name  Location   Cuisine  Rating  Seating Capacity  \\\n",
       "0        Restaurant 0     Rural  Japanese     4.0                38   \n",
       "1        Restaurant 1  Downtown   Mexican     3.2                76   \n",
       "2        Restaurant 2     Rural   Italian     4.7                48   \n",
       "3        Restaurant 3     Rural   Italian     4.4                34   \n",
       "4        Restaurant 4  Downtown  Japanese     4.9                88   \n",
       "...               ...       ...       ...     ...               ...   \n",
       "8363  Restaurant 8363  Suburban    Indian     3.4                54   \n",
       "8364  Restaurant 8364     Rural    Indian     3.7                49   \n",
       "8365  Restaurant 8365  Downtown   Italian     4.7                88   \n",
       "8366  Restaurant 8366     Rural  American     3.1                31   \n",
       "8367  Restaurant 8367     Rural  Japanese     4.0                33   \n",
       "\n",
       "      Average Meal Price  Marketing Budget  Social Media Followers  \\\n",
       "0                  73.98              2224                   23406   \n",
       "1                  28.11              4416                   42741   \n",
       "2                  48.29              2796                   37285   \n",
       "3                  51.55              1167                   15214   \n",
       "4                  75.98              3639                   40171   \n",
       "...                  ...               ...                     ...   \n",
       "8363               34.85              1102                   11298   \n",
       "8364               36.88              1988                   20432   \n",
       "8365               46.87              5949                   63945   \n",
       "8366               44.53               707                    7170   \n",
       "8367               71.07              2003                   24268   \n",
       "\n",
       "      Chef Experience Years  Number of Reviews  Avg Review Length  \\\n",
       "0                        13                185         161.924906   \n",
       "1                         8                533         148.759717   \n",
       "2                        18                853          56.849189   \n",
       "3                        13                 82         205.433265   \n",
       "4                         9                 78         241.681584   \n",
       "...                     ...                ...                ...   \n",
       "8363                     11                380         253.919515   \n",
       "8364                      9                713         175.590194   \n",
       "8365                      6                436         222.953647   \n",
       "8366                      1                729         178.482851   \n",
       "8367                      8                197         151.838065   \n",
       "\n",
       "      Ambience Score  Service Quality Score Parking Availability  \\\n",
       "0                1.3                    7.0                  Yes   \n",
       "1                2.6                    3.4                  Yes   \n",
       "2                5.3                    6.7                   No   \n",
       "3                4.6                    2.8                  Yes   \n",
       "4                8.6                    2.1                   No   \n",
       "...              ...                    ...                  ...   \n",
       "8363             9.5                    5.0                  Yes   \n",
       "8364             2.7                    2.6                   No   \n",
       "8365             4.8                    1.7                  Yes   \n",
       "8366             6.1                    2.1                   No   \n",
       "8367             5.9                    7.5                  Yes   \n",
       "\n",
       "      Weekend Reservations  Weekday Reservations     Revenue  \n",
       "0                       13                     4   638945.52  \n",
       "1                       48                     6   490207.83  \n",
       "2                       27                    14   541368.62  \n",
       "3                        9                    17   404556.80  \n",
       "4                       37                    26  1491046.35  \n",
       "...                    ...                   ...         ...  \n",
       "8363                    37                     0   434653.45  \n",
       "8364                    37                    21   414977.92  \n",
       "8365                    83                    21   930395.87  \n",
       "8366                     6                    21   311493.48  \n",
       "8367                     5                    12   534142.98  \n",
       "\n",
       "[8368 rows x 17 columns]"
      ]
     },
     "execution_count": 1,
     "metadata": {},
     "output_type": "execute_result"
    }
   ],
   "source": [
    "# Reading the dataset\n",
    "import pandas as pd\n",
    "import numpy as np\n",
    "resData=pd.read_csv(\"C:/Users/Siddhali/OneDrive/Desktop/restaurant_data.csv\", encoding='latin')\n",
    "print('Shape before deleting duplicate values:',resData.shape)\n",
    "\n",
    "# Removing duplicate rows if any\n",
    "# CarPricesData=CarPricesData.drop_duplicates() \n",
    "# print('Shape After deleting duplicate values:', CarPricesData.shape)\n",
    "\n",
    "# Printing sample data\n",
    "# Start observing the Quantitative/Categorical/Qualitative variables\n",
    "resData"
   ]
  },
  {
   "cell_type": "markdown",
   "metadata": {},
   "source": [
    "# Defining the problem statement: \n",
    "#### Create a ML model which can predict the revenue of restaurants\n",
    "* Target Variable: Price\n",
    "* Predictors: Age, KM, FuelType, CC etc."
   ]
  },
  {
   "cell_type": "code",
   "execution_count": 3,
   "metadata": {},
   "outputs": [
    {
     "data": {
      "text/plain": [
       "Index(['Name', 'Location', 'Cuisine', 'Rating', 'Seating Capacity',\n",
       "       'Average Meal Price', 'Marketing Budget', 'Social Media Followers',\n",
       "       'Chef Experience Years', 'Number of Reviews', 'Avg Review Length',\n",
       "       'Ambience Score', 'Service Quality Score', 'Parking Availability',\n",
       "       'Weekend Reservations', 'Weekday Reservations', 'Revenue'],\n",
       "      dtype='object')"
      ]
     },
     "execution_count": 3,
     "metadata": {},
     "output_type": "execute_result"
    }
   ],
   "source": [
    "resData.columns"
   ]
  },
  {
   "cell_type": "code",
   "execution_count": 2,
   "metadata": {
    "scrolled": true
   },
   "outputs": [
    {
     "data": {
      "text/plain": [
       "<Axes: >"
      ]
     },
     "execution_count": 2,
     "metadata": {},
     "output_type": "execute_result"
    },
    {
     "data": {
      "image/png": "[encoded data removed]",
      "text/plain": [
       "<Figure size 500x300 with 1 Axes>"
      ]
     },
     "metadata": {},
     "output_type": "display_data"
    }
   ],
   "source": [
    "resData['Revenue'].hist(figsize=(5,3),bins=25, color='steelblue') "
   ]
  },
  {
   "cell_type": "markdown",
   "metadata": {},
   "source": [
    "# Determining the type of Machine Learning\n",
    "Based on the problem statement you can understand that we need to create a <b>supervised ML Regression model</b>, as the target variable is Continuous."
   ]
  },
  {
   "cell_type": "markdown",
   "metadata": {},
   "source": [
    "# Looking at the distribution of Target variable\n",
    "* If target variable's distribution is too skewed then the predictive modeling will not be possible.\n",
    "* Bell curve is desirable but slightly positive skew or negative skew is also fine\n",
    "* When performing Regression, make sure the histogram looks like a bell curve or slight skewed version of it. Otherwise it impacts the Machine Learning algorithms ability to learn all the scenarios."
   ]
  },
  {
   "cell_type": "code",
   "execution_count": 5,
   "metadata": {},
   "outputs": [
    {
     "data": {
      "text/plain": [
       "<Axes: >"
      ]
     },
     "execution_count": 5,
     "metadata": {},
     "output_type": "execute_result"
    },
    {
     "data": {
      "image/png": "[encoded data removed]",
      "text/plain": [
       "<Figure size 640x480 with 1 Axes>"
      ]
     },
     "metadata": {},
     "output_type": "display_data"
    }
   ],
   "source": [
    "%matplotlib inline\n",
    "# Creating Bar chart as the Target variable is Continuous\n",
    "resData['Revenue'].hist()    "
   ]
  },
  {
   "cell_type": "markdown",
   "metadata": {},
   "source": [
    "The data distribution of the target variable is satisfactory to proceed further. There are sufficient number of rows for each type of values to learn from."
   ]
  },
  {
   "cell_type": "markdown",
   "metadata": {},
   "source": [
    "# Basic Data Exploration\n",
    "This step is performed to guage the overall data. The volume of data, the types of columns present in the data. Initial assessment of the data should be done to identify which columns are Quantitative, Categorical or Qualitative.\n",
    "\n",
    "This step helps to start the column rejection process. You must look at each column carefully and ask, does this column affect the values of the Target variable? For example in this case study, you will ask, <b>does this column affect the Price of the computer?</b> If the answer is a clear \"No\", then remove the column immediately from the data, otherwise keep the column for further analysis.\n",
    "\n",
    "There are four commands which are used for Basic data exploration in Python\n",
    "* <b>head()</b> : This helps to see a few sample rows of the data\n",
    "* <b>info() </b>: This provides the summarized information of the data\n",
    "* <b>describe() </b>: This provides the descriptive statistical details of the data\n",
    "* <b>nunique()</b>: This helps us to identify if a column is categorical or continuous"
   ]
  },
  {
   "cell_type": "code",
   "execution_count": 3,
   "metadata": {},
   "outputs": [
    {
     "data": {
      "text/plain": [
       "Name                      8368\n",
       "Location                     3\n",
       "Cuisine                      6\n",
       "Rating                      21\n",
       "Seating Capacity            61\n",
       "Average Meal Price        3966\n",
       "Marketing Budget          4396\n",
       "Social Media Followers    7799\n",
       "Chef Experience Years       19\n",
       "Number of Reviews          949\n",
       "Avg Review Length         8368\n",
       "Ambience Score              91\n",
       "Service Quality Score       91\n",
       "Parking Availability         2\n",
       "Weekend Reservations        89\n",
       "Weekday Reservations        89\n",
       "Revenue                   8368\n",
       "dtype: int64"
      ]
     },
     "execution_count": 3,
     "metadata": {},
     "output_type": "execute_result"
    }
   ],
   "source": [
    "resData.nunique() "
   ]
  },
  {
   "cell_type": "code",
   "execution_count": 4,
   "metadata": {},
   "outputs": [
    {
     "data": {
      "text/html": [
       "<div>\n",
       "<style scoped>\n",
       "    .dataframe tbody tr th:only-of-type {\n",
       "        vertical-align: middle;\n",
       "    }\n",
       "\n",
       "    .dataframe tbody tr th {\n",
       "        vertical-align: top;\n",
       "    }\n",
       "\n",
       "    .dataframe thead th {\n",
       "        text-align: right;\n",
       "    }\n",
       "</style>\n",
       "<table border=\"1\" class=\"dataframe\">\n",
       "  <thead>\n",
       "    <tr style=\"text-align: right;\">\n",
       "      <th></th>\n",
       "      <th>Name</th>\n",
       "      <th>Location</th>\n",
       "      <th>Cuisine</th>\n",
       "      <th>Rating</th>\n",
       "      <th>Seating Capacity</th>\n",
       "      <th>Average Meal Price</th>\n",
       "      <th>Marketing Budget</th>\n",
       "      <th>Social Media Followers</th>\n",
       "      <th>Chef Experience Years</th>\n",
       "      <th>Number of Reviews</th>\n",
       "      <th>Avg Review Length</th>\n",
       "      <th>Ambience Score</th>\n",
       "      <th>Service Quality Score</th>\n",
       "      <th>Parking Availability</th>\n",
       "      <th>Weekend Reservations</th>\n",
       "      <th>Weekday Reservations</th>\n",
       "      <th>Revenue</th>\n",
       "    </tr>\n",
       "  </thead>\n",
       "  <tbody>\n",
       "    <tr>\n",
       "      <th>0</th>\n",
       "      <td>Restaurant 0</td>\n",
       "      <td>Rural</td>\n",
       "      <td>Japanese</td>\n",
       "      <td>4.0</td>\n",
       "      <td>38</td>\n",
       "      <td>73.98</td>\n",
       "      <td>2224</td>\n",
       "      <td>23406</td>\n",
       "      <td>13</td>\n",
       "      <td>185</td>\n",
       "      <td>161.924906</td>\n",
       "      <td>1.3</td>\n",
       "      <td>7.0</td>\n",
       "      <td>Yes</td>\n",
       "      <td>13</td>\n",
       "      <td>4</td>\n",
       "      <td>638945.52</td>\n",
       "    </tr>\n",
       "    <tr>\n",
       "      <th>1</th>\n",
       "      <td>Restaurant 1</td>\n",
       "      <td>Downtown</td>\n",
       "      <td>Mexican</td>\n",
       "      <td>3.2</td>\n",
       "      <td>76</td>\n",
       "      <td>28.11</td>\n",
       "      <td>4416</td>\n",
       "      <td>42741</td>\n",
       "      <td>8</td>\n",
       "      <td>533</td>\n",
       "      <td>148.759717</td>\n",
       "      <td>2.6</td>\n",
       "      <td>3.4</td>\n",
       "      <td>Yes</td>\n",
       "      <td>48</td>\n",
       "      <td>6</td>\n",
       "      <td>490207.83</td>\n",
       "    </tr>\n",
       "    <tr>\n",
       "      <th>2</th>\n",
       "      <td>Restaurant 2</td>\n",
       "      <td>Rural</td>\n",
       "      <td>Italian</td>\n",
       "      <td>4.7</td>\n",
       "      <td>48</td>\n",
       "      <td>48.29</td>\n",
       "      <td>2796</td>\n",
       "      <td>37285</td>\n",
       "      <td>18</td>\n",
       "      <td>853</td>\n",
       "      <td>56.849189</td>\n",
       "      <td>5.3</td>\n",
       "      <td>6.7</td>\n",
       "      <td>No</td>\n",
       "      <td>27</td>\n",
       "      <td>14</td>\n",
       "      <td>541368.62</td>\n",
       "    </tr>\n",
       "  </tbody>\n",
       "</table>\n",
       "</div>"
      ],
      "text/plain": [
       "           Name  Location   Cuisine  Rating  Seating Capacity  \\\n",
       "0  Restaurant 0     Rural  Japanese     4.0                38   \n",
       "1  Restaurant 1  Downtown   Mexican     3.2                76   \n",
       "2  Restaurant 2     Rural   Italian     4.7                48   \n",
       "\n",
       "   Average Meal Price  Marketing Budget  Social Media Followers  \\\n",
       "0               73.98              2224                   23406   \n",
       "1               28.11              4416                   42741   \n",
       "2               48.29              2796                   37285   \n",
       "\n",
       "   Chef Experience Years  Number of Reviews  Avg Review Length  \\\n",
       "0                     13                185         161.924906   \n",
       "1                      8                533         148.759717   \n",
       "2                     18                853          56.849189   \n",
       "\n",
       "   Ambience Score  Service Quality Score Parking Availability  \\\n",
       "0             1.3                    7.0                  Yes   \n",
       "1             2.6                    3.4                  Yes   \n",
       "2             5.3                    6.7                   No   \n",
       "\n",
       "   Weekend Reservations  Weekday Reservations    Revenue  \n",
       "0                    13                     4  638945.52  \n",
       "1                    48                     6  490207.83  \n",
       "2                    27                    14  541368.62  "
      ]
     },
     "execution_count": 4,
     "metadata": {},
     "output_type": "execute_result"
    }
   ],
   "source": [
    "# Looking at sample rows in the data\n",
    "resData.head(3)"
   ]
  },
  {
   "cell_type": "code",
   "execution_count": 5,
   "metadata": {},
   "outputs": [
    {
     "name": "stdout",
     "output_type": "stream",
     "text": [
      "<class 'pandas.core.frame.DataFrame'>\n",
      "RangeIndex: 8368 entries, 0 to 8367\n",
      "Data columns (total 17 columns):\n",
      " #   Column                  Non-Null Count  Dtype  \n",
      "---  ------                  --------------  -----  \n",
      " 0   Name                    8368 non-null   object \n",
      " 1   Location                8368 non-null   object \n",
      " 2   Cuisine                 8368 non-null   object \n",
      " 3   Rating                  8368 non-null   float64\n",
      " 4   Seating Capacity        8368 non-null   int64  \n",
      " 5   Average Meal Price      8368 non-null   float64\n",
      " 6   Marketing Budget        8368 non-null   int64  \n",
      " 7   Social Media Followers  8368 non-null   int64  \n",
      " 8   Chef Experience Years   8368 non-null   int64  \n",
      " 9   Number of Reviews       8368 non-null   int64  \n",
      " 10  Avg Review Length       8368 non-null   float64\n",
      " 11  Ambience Score          8368 non-null   float64\n",
      " 12  Service Quality Score   8368 non-null   float64\n",
      " 13  Parking Availability    8368 non-null   object \n",
      " 14  Weekend Reservations    8368 non-null   int64  \n",
      " 15  Weekday Reservations    8368 non-null   int64  \n",
      " 16  Revenue                 8368 non-null   float64\n",
      "dtypes: float64(6), int64(7), object(4)\n",
      "memory usage: 1.1+ MB\n"
     ]
    }
   ],
   "source": [
    "# Observing the summarized information of data\n",
    "# Data types, Missing values based on number of non-null values Vs total rows etc.\n",
    "# Remove those variables from data which have too many missing values (Missing Values > 30%)\n",
    "# Remove Qualitative variables which cannot be used in Machine Learning\n",
    "resData.info()   "
   ]
  },
  {
   "cell_type": "code",
   "execution_count": 6,
   "metadata": {},
   "outputs": [
    {
     "data": {
      "text/html": [
       "<div>\n",
       "<style scoped>\n",
       "    .dataframe tbody tr th:only-of-type {\n",
       "        vertical-align: middle;\n",
       "    }\n",
       "\n",
       "    .dataframe tbody tr th {\n",
       "        vertical-align: top;\n",
       "    }\n",
       "\n",
       "    .dataframe thead th {\n",
       "        text-align: right;\n",
       "    }\n",
       "</style>\n",
       "<table border=\"1\" class=\"dataframe\">\n",
       "  <thead>\n",
       "    <tr style=\"text-align: right;\">\n",
       "      <th></th>\n",
       "      <th>Name</th>\n",
       "      <th>Location</th>\n",
       "      <th>Cuisine</th>\n",
       "      <th>Rating</th>\n",
       "      <th>Seating Capacity</th>\n",
       "      <th>Average Meal Price</th>\n",
       "      <th>Marketing Budget</th>\n",
       "      <th>Social Media Followers</th>\n",
       "      <th>Chef Experience Years</th>\n",
       "      <th>Number of Reviews</th>\n",
       "      <th>Avg Review Length</th>\n",
       "      <th>Ambience Score</th>\n",
       "      <th>Service Quality Score</th>\n",
       "      <th>Parking Availability</th>\n",
       "      <th>Weekend Reservations</th>\n",
       "      <th>Weekday Reservations</th>\n",
       "      <th>Revenue</th>\n",
       "    </tr>\n",
       "  </thead>\n",
       "  <tbody>\n",
       "    <tr>\n",
       "      <th>count</th>\n",
       "      <td>8368</td>\n",
       "      <td>8368</td>\n",
       "      <td>8368</td>\n",
       "      <td>8368.000000</td>\n",
       "      <td>8368.000000</td>\n",
       "      <td>8368.000000</td>\n",
       "      <td>8368.000000</td>\n",
       "      <td>8368.000000</td>\n",
       "      <td>8368.000000</td>\n",
       "      <td>8368.000000</td>\n",
       "      <td>8368.000000</td>\n",
       "      <td>8368.000000</td>\n",
       "      <td>8368.000000</td>\n",
       "      <td>8368</td>\n",
       "      <td>8368.000000</td>\n",
       "      <td>8368.000000</td>\n",
       "      <td>8.368000e+03</td>\n",
       "    </tr>\n",
       "    <tr>\n",
       "      <th>unique</th>\n",
       "      <td>8368</td>\n",
       "      <td>3</td>\n",
       "      <td>6</td>\n",
       "      <td>NaN</td>\n",
       "      <td>NaN</td>\n",
       "      <td>NaN</td>\n",
       "      <td>NaN</td>\n",
       "      <td>NaN</td>\n",
       "      <td>NaN</td>\n",
       "      <td>NaN</td>\n",
       "      <td>NaN</td>\n",
       "      <td>NaN</td>\n",
       "      <td>NaN</td>\n",
       "      <td>2</td>\n",
       "      <td>NaN</td>\n",
       "      <td>NaN</td>\n",
       "      <td>NaN</td>\n",
       "    </tr>\n",
       "    <tr>\n",
       "      <th>top</th>\n",
       "      <td>Restaurant 0</td>\n",
       "      <td>Downtown</td>\n",
       "      <td>French</td>\n",
       "      <td>NaN</td>\n",
       "      <td>NaN</td>\n",
       "      <td>NaN</td>\n",
       "      <td>NaN</td>\n",
       "      <td>NaN</td>\n",
       "      <td>NaN</td>\n",
       "      <td>NaN</td>\n",
       "      <td>NaN</td>\n",
       "      <td>NaN</td>\n",
       "      <td>NaN</td>\n",
       "      <td>Yes</td>\n",
       "      <td>NaN</td>\n",
       "      <td>NaN</td>\n",
       "      <td>NaN</td>\n",
       "    </tr>\n",
       "    <tr>\n",
       "      <th>freq</th>\n",
       "      <td>1</td>\n",
       "      <td>2821</td>\n",
       "      <td>1433</td>\n",
       "      <td>NaN</td>\n",
       "      <td>NaN</td>\n",
       "      <td>NaN</td>\n",
       "      <td>NaN</td>\n",
       "      <td>NaN</td>\n",
       "      <td>NaN</td>\n",
       "      <td>NaN</td>\n",
       "      <td>NaN</td>\n",
       "      <td>NaN</td>\n",
       "      <td>NaN</td>\n",
       "      <td>4189</td>\n",
       "      <td>NaN</td>\n",
       "      <td>NaN</td>\n",
       "      <td>NaN</td>\n",
       "    </tr>\n",
       "    <tr>\n",
       "      <th>mean</th>\n",
       "      <td>NaN</td>\n",
       "      <td>NaN</td>\n",
       "      <td>NaN</td>\n",
       "      <td>4.008258</td>\n",
       "      <td>60.212835</td>\n",
       "      <td>47.896659</td>\n",
       "      <td>3218.254900</td>\n",
       "      <td>36190.621773</td>\n",
       "      <td>10.051984</td>\n",
       "      <td>523.010397</td>\n",
       "      <td>174.769974</td>\n",
       "      <td>5.521283</td>\n",
       "      <td>5.508772</td>\n",
       "      <td>NaN</td>\n",
       "      <td>29.491754</td>\n",
       "      <td>29.235301</td>\n",
       "      <td>6.560706e+05</td>\n",
       "    </tr>\n",
       "    <tr>\n",
       "      <th>std</th>\n",
       "      <td>NaN</td>\n",
       "      <td>NaN</td>\n",
       "      <td>NaN</td>\n",
       "      <td>0.581474</td>\n",
       "      <td>17.399488</td>\n",
       "      <td>14.336767</td>\n",
       "      <td>1824.896053</td>\n",
       "      <td>18630.153330</td>\n",
       "      <td>5.516606</td>\n",
       "      <td>277.215127</td>\n",
       "      <td>71.998060</td>\n",
       "      <td>2.575442</td>\n",
       "      <td>2.586552</td>\n",
       "      <td>NaN</td>\n",
       "      <td>20.025415</td>\n",
       "      <td>20.004277</td>\n",
       "      <td>2.674137e+05</td>\n",
       "    </tr>\n",
       "    <tr>\n",
       "      <th>min</th>\n",
       "      <td>NaN</td>\n",
       "      <td>NaN</td>\n",
       "      <td>NaN</td>\n",
       "      <td>3.000000</td>\n",
       "      <td>30.000000</td>\n",
       "      <td>25.000000</td>\n",
       "      <td>604.000000</td>\n",
       "      <td>5277.000000</td>\n",
       "      <td>1.000000</td>\n",
       "      <td>50.000000</td>\n",
       "      <td>50.011717</td>\n",
       "      <td>1.000000</td>\n",
       "      <td>1.000000</td>\n",
       "      <td>NaN</td>\n",
       "      <td>0.000000</td>\n",
       "      <td>0.000000</td>\n",
       "      <td>1.847085e+05</td>\n",
       "    </tr>\n",
       "    <tr>\n",
       "      <th>25%</th>\n",
       "      <td>NaN</td>\n",
       "      <td>NaN</td>\n",
       "      <td>NaN</td>\n",
       "      <td>3.500000</td>\n",
       "      <td>45.000000</td>\n",
       "      <td>35.490000</td>\n",
       "      <td>1889.000000</td>\n",
       "      <td>22592.500000</td>\n",
       "      <td>5.000000</td>\n",
       "      <td>277.000000</td>\n",
       "      <td>113.311102</td>\n",
       "      <td>3.300000</td>\n",
       "      <td>3.200000</td>\n",
       "      <td>NaN</td>\n",
       "      <td>13.000000</td>\n",
       "      <td>13.000000</td>\n",
       "      <td>4.546514e+05</td>\n",
       "    </tr>\n",
       "    <tr>\n",
       "      <th>50%</th>\n",
       "      <td>NaN</td>\n",
       "      <td>NaN</td>\n",
       "      <td>NaN</td>\n",
       "      <td>4.000000</td>\n",
       "      <td>60.000000</td>\n",
       "      <td>45.535000</td>\n",
       "      <td>2846.500000</td>\n",
       "      <td>32518.500000</td>\n",
       "      <td>10.000000</td>\n",
       "      <td>528.000000</td>\n",
       "      <td>173.910079</td>\n",
       "      <td>5.500000</td>\n",
       "      <td>5.600000</td>\n",
       "      <td>NaN</td>\n",
       "      <td>27.000000</td>\n",
       "      <td>26.000000</td>\n",
       "      <td>6.042421e+05</td>\n",
       "    </tr>\n",
       "    <tr>\n",
       "      <th>75%</th>\n",
       "      <td>NaN</td>\n",
       "      <td>NaN</td>\n",
       "      <td>NaN</td>\n",
       "      <td>4.500000</td>\n",
       "      <td>75.000000</td>\n",
       "      <td>60.300000</td>\n",
       "      <td>4008.500000</td>\n",
       "      <td>44566.250000</td>\n",
       "      <td>15.000000</td>\n",
       "      <td>764.250000</td>\n",
       "      <td>237.406885</td>\n",
       "      <td>7.800000</td>\n",
       "      <td>7.800000</td>\n",
       "      <td>NaN</td>\n",
       "      <td>43.000000</td>\n",
       "      <td>43.000000</td>\n",
       "      <td>8.130942e+05</td>\n",
       "    </tr>\n",
       "    <tr>\n",
       "      <th>max</th>\n",
       "      <td>NaN</td>\n",
       "      <td>NaN</td>\n",
       "      <td>NaN</td>\n",
       "      <td>5.000000</td>\n",
       "      <td>90.000000</td>\n",
       "      <td>76.000000</td>\n",
       "      <td>9978.000000</td>\n",
       "      <td>103777.000000</td>\n",
       "      <td>19.000000</td>\n",
       "      <td>999.000000</td>\n",
       "      <td>299.984924</td>\n",
       "      <td>10.000000</td>\n",
       "      <td>10.000000</td>\n",
       "      <td>NaN</td>\n",
       "      <td>88.000000</td>\n",
       "      <td>88.000000</td>\n",
       "      <td>1.531868e+06</td>\n",
       "    </tr>\n",
       "  </tbody>\n",
       "</table>\n",
       "</div>"
      ],
      "text/plain": [
       "                Name  Location Cuisine       Rating  Seating Capacity  \\\n",
       "count           8368      8368    8368  8368.000000       8368.000000   \n",
       "unique          8368         3       6          NaN               NaN   \n",
       "top     Restaurant 0  Downtown  French          NaN               NaN   \n",
       "freq               1      2821    1433          NaN               NaN   \n",
       "mean             NaN       NaN     NaN     4.008258         60.212835   \n",
       "std              NaN       NaN     NaN     0.581474         17.399488   \n",
       "min              NaN       NaN     NaN     3.000000         30.000000   \n",
       "25%              NaN       NaN     NaN     3.500000         45.000000   \n",
       "50%              NaN       NaN     NaN     4.000000         60.000000   \n",
       "75%              NaN       NaN     NaN     4.500000         75.000000   \n",
       "max              NaN       NaN     NaN     5.000000         90.000000   \n",
       "\n",
       "        Average Meal Price  Marketing Budget  Social Media Followers  \\\n",
       "count          8368.000000       8368.000000             8368.000000   \n",
       "unique                 NaN               NaN                     NaN   \n",
       "top                    NaN               NaN                     NaN   \n",
       "freq                   NaN               NaN                     NaN   \n",
       "mean             47.896659       3218.254900            36190.621773   \n",
       "std              14.336767       1824.896053            18630.153330   \n",
       "min              25.000000        604.000000             5277.000000   \n",
       "25%              35.490000       1889.000000            22592.500000   \n",
       "50%              45.535000       2846.500000            32518.500000   \n",
       "75%              60.300000       4008.500000            44566.250000   \n",
       "max              76.000000       9978.000000           103777.000000   \n",
       "\n",
       "        Chef Experience Years  Number of Reviews  Avg Review Length  \\\n",
       "count             8368.000000        8368.000000        8368.000000   \n",
       "unique                    NaN                NaN                NaN   \n",
       "top                       NaN                NaN                NaN   \n",
       "freq                      NaN                NaN                NaN   \n",
       "mean                10.051984         523.010397         174.769974   \n",
       "std                  5.516606         277.215127          71.998060   \n",
       "min                  1.000000          50.000000          50.011717   \n",
       "25%                  5.000000         277.000000         113.311102   \n",
       "50%                 10.000000         528.000000         173.910079   \n",
       "75%                 15.000000         764.250000         237.406885   \n",
       "max                 19.000000         999.000000         299.984924   \n",
       "\n",
       "        Ambience Score  Service Quality Score Parking Availability  \\\n",
       "count      8368.000000            8368.000000                 8368   \n",
       "unique             NaN                    NaN                    2   \n",
       "top                NaN                    NaN                  Yes   \n",
       "freq               NaN                    NaN                 4189   \n",
       "mean          5.521283               5.508772                  NaN   \n",
       "std           2.575442               2.586552                  NaN   \n",
       "min           1.000000               1.000000                  NaN   \n",
       "25%           3.300000               3.200000                  NaN   \n",
       "50%           5.500000               5.600000                  NaN   \n",
       "75%           7.800000               7.800000                  NaN   \n",
       "max          10.000000              10.000000                  NaN   \n",
       "\n",
       "        Weekend Reservations  Weekday Reservations       Revenue  \n",
       "count            8368.000000           8368.000000  8.368000e+03  \n",
       "unique                   NaN                   NaN           NaN  \n",
       "top                      NaN                   NaN           NaN  \n",
       "freq                     NaN                   NaN           NaN  \n",
       "mean               29.491754             29.235301  6.560706e+05  \n",
       "std                20.025415             20.004277  2.674137e+05  \n",
       "min                 0.000000              0.000000  1.847085e+05  \n",
       "25%                13.000000             13.000000  4.546514e+05  \n",
       "50%                27.000000             26.000000  6.042421e+05  \n",
       "75%                43.000000             43.000000  8.130942e+05  \n",
       "max                88.000000             88.000000  1.531868e+06  "
      ]
     },
     "execution_count": 6,
     "metadata": {},
     "output_type": "execute_result"
    }
   ],
   "source": [
    "# Looking at the descriptive statistics of the data\n",
    "resData.describe(include='all')  "
   ]
  },
  {
   "cell_type": "markdown",
   "metadata": {},
   "source": [
    "# Basic Data Exploration Results\n",
    "Based on the basic exploration above, you can now create a simple report of the data, noting down your \n",
    "observations regaring each column. Hence, creating a initial roadmap for further analysis. \n",
    "\n",
    "The selected columns in this step are not final, further study will be done and then a final list will be created\n",
    "\n",
    "* <b>Price</b>: Continuous. Selected. This is the <b>Target Variable!</b>\n",
    "* <b>Age</b>: Continuous. Selected.\n",
    "* <b>KM</b>: Continuous. Selected.\n",
    "* <b>FuelType</b>: Categorical. Selected.\n",
    "* <b>HP</b>: Categorical. Selected.\n",
    "* <b>MetColor</b>: Categorical. Selected.\n",
    "* <b>Automatic</b>: Categorical. Selected.\n",
    "* <b>CC</b>: Categorical. Selected.\n",
    "* <b>Doors</b>: Categorical. Selected.\n",
    "* <b>Weight</b>: Continuous. Selected."
   ]
  },
  {
   "cell_type": "code",
   "execution_count": null,
   "metadata": {},
   "outputs": [],
   "source": []
  },
  {
   "cell_type": "markdown",
   "metadata": {},
   "source": [
    "# Removing useless columns from the data"
   ]
  },
  {
   "cell_type": "markdown",
   "metadata": {},
   "source": [
    "There are no qualitative columns in this data"
   ]
  },
  {
   "cell_type": "code",
   "execution_count": 10,
   "metadata": {},
   "outputs": [
    {
     "data": {
      "text/html": [
       "<div>\n",
       "<style scoped>\n",
       "    .dataframe tbody tr th:only-of-type {\n",
       "        vertical-align: middle;\n",
       "    }\n",
       "\n",
       "    .dataframe tbody tr th {\n",
       "        vertical-align: top;\n",
       "    }\n",
       "\n",
       "    .dataframe thead th {\n",
       "        text-align: right;\n",
       "    }\n",
       "</style>\n",
       "<table border=\"1\" class=\"dataframe\">\n",
       "  <thead>\n",
       "    <tr style=\"text-align: right;\">\n",
       "      <th></th>\n",
       "      <th>Name</th>\n",
       "      <th>Location</th>\n",
       "      <th>Cuisine</th>\n",
       "      <th>Rating</th>\n",
       "      <th>Seating Capacity</th>\n",
       "      <th>Average Meal Price</th>\n",
       "      <th>Marketing Budget</th>\n",
       "      <th>Social Media Followers</th>\n",
       "      <th>Chef Experience Years</th>\n",
       "      <th>Number of Reviews</th>\n",
       "      <th>Avg Review Length</th>\n",
       "      <th>Ambience Score</th>\n",
       "      <th>Service Quality Score</th>\n",
       "      <th>Parking Availability</th>\n",
       "      <th>Weekend Reservations</th>\n",
       "      <th>Weekday Reservations</th>\n",
       "      <th>Revenue</th>\n",
       "    </tr>\n",
       "  </thead>\n",
       "  <tbody>\n",
       "    <tr>\n",
       "      <th>0</th>\n",
       "      <td>Restaurant 0</td>\n",
       "      <td>Rural</td>\n",
       "      <td>Japanese</td>\n",
       "      <td>4.0</td>\n",
       "      <td>38</td>\n",
       "      <td>73.98</td>\n",
       "      <td>2224</td>\n",
       "      <td>23406</td>\n",
       "      <td>13</td>\n",
       "      <td>185</td>\n",
       "      <td>161.924906</td>\n",
       "      <td>1.3</td>\n",
       "      <td>7.0</td>\n",
       "      <td>Yes</td>\n",
       "      <td>13</td>\n",
       "      <td>4</td>\n",
       "      <td>638945.52</td>\n",
       "    </tr>\n",
       "    <tr>\n",
       "      <th>1</th>\n",
       "      <td>Restaurant 1</td>\n",
       "      <td>Downtown</td>\n",
       "      <td>Mexican</td>\n",
       "      <td>3.2</td>\n",
       "      <td>76</td>\n",
       "      <td>28.11</td>\n",
       "      <td>4416</td>\n",
       "      <td>42741</td>\n",
       "      <td>8</td>\n",
       "      <td>533</td>\n",
       "      <td>148.759717</td>\n",
       "      <td>2.6</td>\n",
       "      <td>3.4</td>\n",
       "      <td>Yes</td>\n",
       "      <td>48</td>\n",
       "      <td>6</td>\n",
       "      <td>490207.83</td>\n",
       "    </tr>\n",
       "    <tr>\n",
       "      <th>2</th>\n",
       "      <td>Restaurant 2</td>\n",
       "      <td>Rural</td>\n",
       "      <td>Italian</td>\n",
       "      <td>4.7</td>\n",
       "      <td>48</td>\n",
       "      <td>48.29</td>\n",
       "      <td>2796</td>\n",
       "      <td>37285</td>\n",
       "      <td>18</td>\n",
       "      <td>853</td>\n",
       "      <td>56.849189</td>\n",
       "      <td>5.3</td>\n",
       "      <td>6.7</td>\n",
       "      <td>No</td>\n",
       "      <td>27</td>\n",
       "      <td>14</td>\n",
       "      <td>541368.62</td>\n",
       "    </tr>\n",
       "    <tr>\n",
       "      <th>3</th>\n",
       "      <td>Restaurant 3</td>\n",
       "      <td>Rural</td>\n",
       "      <td>Italian</td>\n",
       "      <td>4.4</td>\n",
       "      <td>34</td>\n",
       "      <td>51.55</td>\n",
       "      <td>1167</td>\n",
       "      <td>15214</td>\n",
       "      <td>13</td>\n",
       "      <td>82</td>\n",
       "      <td>205.433265</td>\n",
       "      <td>4.6</td>\n",
       "      <td>2.8</td>\n",
       "      <td>Yes</td>\n",
       "      <td>9</td>\n",
       "      <td>17</td>\n",
       "      <td>404556.80</td>\n",
       "    </tr>\n",
       "    <tr>\n",
       "      <th>4</th>\n",
       "      <td>Restaurant 4</td>\n",
       "      <td>Downtown</td>\n",
       "      <td>Japanese</td>\n",
       "      <td>4.9</td>\n",
       "      <td>88</td>\n",
       "      <td>75.98</td>\n",
       "      <td>3639</td>\n",
       "      <td>40171</td>\n",
       "      <td>9</td>\n",
       "      <td>78</td>\n",
       "      <td>241.681584</td>\n",
       "      <td>8.6</td>\n",
       "      <td>2.1</td>\n",
       "      <td>No</td>\n",
       "      <td>37</td>\n",
       "      <td>26</td>\n",
       "      <td>1491046.35</td>\n",
       "    </tr>\n",
       "  </tbody>\n",
       "</table>\n",
       "</div>"
      ],
      "text/plain": [
       "           Name  Location   Cuisine  Rating  Seating Capacity  \\\n",
       "0  Restaurant 0     Rural  Japanese     4.0                38   \n",
       "1  Restaurant 1  Downtown   Mexican     3.2                76   \n",
       "2  Restaurant 2     Rural   Italian     4.7                48   \n",
       "3  Restaurant 3     Rural   Italian     4.4                34   \n",
       "4  Restaurant 4  Downtown  Japanese     4.9                88   \n",
       "\n",
       "   Average Meal Price  Marketing Budget  Social Media Followers  \\\n",
       "0               73.98              2224                   23406   \n",
       "1               28.11              4416                   42741   \n",
       "2               48.29              2796                   37285   \n",
       "3               51.55              1167                   15214   \n",
       "4               75.98              3639                   40171   \n",
       "\n",
       "   Chef Experience Years  Number of Reviews  Avg Review Length  \\\n",
       "0                     13                185         161.924906   \n",
       "1                      8                533         148.759717   \n",
       "2                     18                853          56.849189   \n",
       "3                     13                 82         205.433265   \n",
       "4                      9                 78         241.681584   \n",
       "\n",
       "   Ambience Score  Service Quality Score Parking Availability  \\\n",
       "0             1.3                    7.0                  Yes   \n",
       "1             2.6                    3.4                  Yes   \n",
       "2             5.3                    6.7                   No   \n",
       "3             4.6                    2.8                  Yes   \n",
       "4             8.6                    2.1                   No   \n",
       "\n",
       "   Weekend Reservations  Weekday Reservations     Revenue  \n",
       "0                    13                     4   638945.52  \n",
       "1                    48                     6   490207.83  \n",
       "2                    27                    14   541368.62  \n",
       "3                     9                    17   404556.80  \n",
       "4                    37                    26  1491046.35  "
      ]
     },
     "execution_count": 10,
     "metadata": {},
     "output_type": "execute_result"
    }
   ],
   "source": [
    "resData.head() "
   ]
  },
  {
   "cell_type": "code",
   "execution_count": 7,
   "metadata": {},
   "outputs": [
    {
     "data": {
      "text/html": [
       "<div>\n",
       "<style scoped>\n",
       "    .dataframe tbody tr th:only-of-type {\n",
       "        vertical-align: middle;\n",
       "    }\n",
       "\n",
       "    .dataframe tbody tr th {\n",
       "        vertical-align: top;\n",
       "    }\n",
       "\n",
       "    .dataframe thead th {\n",
       "        text-align: right;\n",
       "    }\n",
       "</style>\n",
       "<table border=\"1\" class=\"dataframe\">\n",
       "  <thead>\n",
       "    <tr style=\"text-align: right;\">\n",
       "      <th></th>\n",
       "      <th>Location</th>\n",
       "      <th>Cuisine</th>\n",
       "      <th>Rating</th>\n",
       "      <th>Seating Capacity</th>\n",
       "      <th>Average Meal Price</th>\n",
       "      <th>Marketing Budget</th>\n",
       "      <th>Social Media Followers</th>\n",
       "      <th>Chef Experience Years</th>\n",
       "      <th>Number of Reviews</th>\n",
       "      <th>Avg Review Length</th>\n",
       "      <th>Ambience Score</th>\n",
       "      <th>Service Quality Score</th>\n",
       "      <th>Parking Availability</th>\n",
       "      <th>Weekend Reservations</th>\n",
       "      <th>Weekday Reservations</th>\n",
       "      <th>Revenue</th>\n",
       "    </tr>\n",
       "  </thead>\n",
       "  <tbody>\n",
       "    <tr>\n",
       "      <th>0</th>\n",
       "      <td>Rural</td>\n",
       "      <td>Japanese</td>\n",
       "      <td>4.0</td>\n",
       "      <td>38</td>\n",
       "      <td>73.98</td>\n",
       "      <td>2224</td>\n",
       "      <td>23406</td>\n",
       "      <td>13</td>\n",
       "      <td>185</td>\n",
       "      <td>161.924906</td>\n",
       "      <td>1.3</td>\n",
       "      <td>7.0</td>\n",
       "      <td>Yes</td>\n",
       "      <td>13</td>\n",
       "      <td>4</td>\n",
       "      <td>638945.52</td>\n",
       "    </tr>\n",
       "    <tr>\n",
       "      <th>1</th>\n",
       "      <td>Downtown</td>\n",
       "      <td>Mexican</td>\n",
       "      <td>3.2</td>\n",
       "      <td>76</td>\n",
       "      <td>28.11</td>\n",
       "      <td>4416</td>\n",
       "      <td>42741</td>\n",
       "      <td>8</td>\n",
       "      <td>533</td>\n",
       "      <td>148.759717</td>\n",
       "      <td>2.6</td>\n",
       "      <td>3.4</td>\n",
       "      <td>Yes</td>\n",
       "      <td>48</td>\n",
       "      <td>6</td>\n",
       "      <td>490207.83</td>\n",
       "    </tr>\n",
       "    <tr>\n",
       "      <th>2</th>\n",
       "      <td>Rural</td>\n",
       "      <td>Italian</td>\n",
       "      <td>4.7</td>\n",
       "      <td>48</td>\n",
       "      <td>48.29</td>\n",
       "      <td>2796</td>\n",
       "      <td>37285</td>\n",
       "      <td>18</td>\n",
       "      <td>853</td>\n",
       "      <td>56.849189</td>\n",
       "      <td>5.3</td>\n",
       "      <td>6.7</td>\n",
       "      <td>No</td>\n",
       "      <td>27</td>\n",
       "      <td>14</td>\n",
       "      <td>541368.62</td>\n",
       "    </tr>\n",
       "    <tr>\n",
       "      <th>3</th>\n",
       "      <td>Rural</td>\n",
       "      <td>Italian</td>\n",
       "      <td>4.4</td>\n",
       "      <td>34</td>\n",
       "      <td>51.55</td>\n",
       "      <td>1167</td>\n",
       "      <td>15214</td>\n",
       "      <td>13</td>\n",
       "      <td>82</td>\n",
       "      <td>205.433265</td>\n",
       "      <td>4.6</td>\n",
       "      <td>2.8</td>\n",
       "      <td>Yes</td>\n",
       "      <td>9</td>\n",
       "      <td>17</td>\n",
       "      <td>404556.80</td>\n",
       "    </tr>\n",
       "    <tr>\n",
       "      <th>4</th>\n",
       "      <td>Downtown</td>\n",
       "      <td>Japanese</td>\n",
       "      <td>4.9</td>\n",
       "      <td>88</td>\n",
       "      <td>75.98</td>\n",
       "      <td>3639</td>\n",
       "      <td>40171</td>\n",
       "      <td>9</td>\n",
       "      <td>78</td>\n",
       "      <td>241.681584</td>\n",
       "      <td>8.6</td>\n",
       "      <td>2.1</td>\n",
       "      <td>No</td>\n",
       "      <td>37</td>\n",
       "      <td>26</td>\n",
       "      <td>1491046.35</td>\n",
       "    </tr>\n",
       "  </tbody>\n",
       "</table>\n",
       "</div>"
      ],
      "text/plain": [
       "   Location   Cuisine  Rating  Seating Capacity  Average Meal Price  \\\n",
       "0     Rural  Japanese     4.0                38               73.98   \n",
       "1  Downtown   Mexican     3.2                76               28.11   \n",
       "2     Rural   Italian     4.7                48               48.29   \n",
       "3     Rural   Italian     4.4                34               51.55   \n",
       "4  Downtown  Japanese     4.9                88               75.98   \n",
       "\n",
       "   Marketing Budget  Social Media Followers  Chef Experience Years  \\\n",
       "0              2224                   23406                     13   \n",
       "1              4416                   42741                      8   \n",
       "2              2796                   37285                     18   \n",
       "3              1167                   15214                     13   \n",
       "4              3639                   40171                      9   \n",
       "\n",
       "   Number of Reviews  Avg Review Length  Ambience Score  \\\n",
       "0                185         161.924906             1.3   \n",
       "1                533         148.759717             2.6   \n",
       "2                853          56.849189             5.3   \n",
       "3                 82         205.433265             4.6   \n",
       "4                 78         241.681584             8.6   \n",
       "\n",
       "   Service Quality Score Parking Availability  Weekend Reservations  \\\n",
       "0                    7.0                  Yes                    13   \n",
       "1                    3.4                  Yes                    48   \n",
       "2                    6.7                   No                    27   \n",
       "3                    2.8                  Yes                     9   \n",
       "4                    2.1                   No                    37   \n",
       "\n",
       "   Weekday Reservations     Revenue  \n",
       "0                     4   638945.52  \n",
       "1                     6   490207.83  \n",
       "2                    14   541368.62  \n",
       "3                    17   404556.80  \n",
       "4                    26  1491046.35  "
      ]
     },
     "execution_count": 7,
     "metadata": {},
     "output_type": "execute_result"
    }
   ],
   "source": [
    "UselessColumns=['Name'] \n",
    "resData=resData.drop(UselessColumns,axis=1)\n",
    "resData.head()   "
   ]
  },
  {
   "cell_type": "markdown",
   "metadata": {},
   "source": [
    "# Visual Exploratory Data Analysis\n",
    "* Categorical variables: Bar plot\n",
    "* Continuous variables: Histogram"
   ]
  },
  {
   "cell_type": "markdown",
   "metadata": {},
   "source": [
    "### Visualize distribution of all the Categorical Predictor variables in the data using bar plots\n",
    "We can spot a categorical variable in the data by looking at the unique values in them. Typically a categorical variable contains less than 20 Unique values AND there is repetition of values, which means the data can be grouped by those unique values.\n",
    "\n",
    "Based on the Basic Data Exploration above, we have spotted six categorical predictors in the data\n",
    "\n",
    "<b>Categorical Predictors: </b>\n",
    "\n",
    "'FuelType', 'HP', 'MetColor', 'Automatic', 'CC', 'Doors'\n",
    "    \n",
    "We use bar charts to see how the data is distributed for these categorical columns."
   ]
  },
  {
   "cell_type": "code",
   "execution_count": 12,
   "metadata": {
    "scrolled": true
   },
   "outputs": [
    {
     "data": {
      "text/plain": [
       "Location                     3\n",
       "Cuisine                      6\n",
       "Rating                      21\n",
       "Seating Capacity            61\n",
       "Average Meal Price        3966\n",
       "Marketing Budget          4396\n",
       "Social Media Followers    7799\n",
       "Chef Experience Years       19\n",
       "Number of Reviews          949\n",
       "Avg Review Length         8368\n",
       "Ambience Score              91\n",
       "Service Quality Score       91\n",
       "Parking Availability         2\n",
       "Weekend Reservations        89\n",
       "Weekday Reservations        89\n",
       "Revenue                   8368\n",
       "dtype: int64"
      ]
     },
     "execution_count": 12,
     "metadata": {},
     "output_type": "execute_result"
    }
   ],
   "source": [
    "resData.nunique()"
   ]
  },
  {
   "cell_type": "code",
   "execution_count": 13,
   "metadata": {},
   "outputs": [],
   "source": [
    "colsToPlot=['Location', 'Cuisine', 'Rating', 'Chef Experience Years'] "
   ]
  },
  {
   "cell_type": "code",
   "execution_count": 8,
   "metadata": {},
   "outputs": [],
   "source": [
    "# Plotting multiple bar charts at once for categorical variables\n",
    "# Since there is no default function which can plot bar charts for multiple columns at once\n",
    "# we are defining our own function for the same\n",
    "\n",
    "def PlotBarCharts(inpData, colsToPlot):\n",
    "    %matplotlib inline\n",
    "    \n",
    "    import matplotlib.pyplot as plt\n",
    "    \n",
    "    # Generating multiple subplots\n",
    "    fig, subPlot=plt.subplots(nrows=1, ncols=len(colsToPlot), figsize=(20,5))\n",
    "    fig.suptitle('Bar charts of: '+ str(colsToPlot))\n",
    "\n",
    "    for colName, plotNumber in zip(colsToPlot, range(len(colsToPlot))):\n",
    "        inpData.groupby(colName).size().plot(kind='bar',ax=subPlot[plotNumber]) "
   ]
  },
  {
   "cell_type": "code",
   "execution_count": 15,
   "metadata": {},
   "outputs": [
    {
     "data": {
      "text/plain": [
       "3"
      ]
     },
     "execution_count": 15,
     "metadata": {},
     "output_type": "execute_result"
    }
   ],
   "source": [
    "len(['Price','Age','FuelType']) "
   ]
  },
  {
   "cell_type": "code",
   "execution_count": 9,
   "metadata": {
    "scrolled": true
   },
   "outputs": [
    {
     "data": {
      "image/png": "[encoded data removed]",
      "text/plain": [
       "<Figure size 2000x500 with 4 Axes>"
      ]
     },
     "metadata": {},
     "output_type": "display_data"
    }
   ],
   "source": [
    "#####################################################################\n",
    "# Calling the function\n",
    "PlotBarCharts(inpData=resData, colsToPlot=[ 'Location','Cuisine', 'Rating', 'Chef Experience Years'])    "
   ]
  },
  {
   "cell_type": "code",
   "execution_count": 17,
   "metadata": {},
   "outputs": [],
   "source": [
    "columnsformachinelearning=['Cuisine', 'Rating', 'Chef Experience Years']  "
   ]
  },
  {
   "cell_type": "code",
   "execution_count": 18,
   "metadata": {},
   "outputs": [
    {
     "data": {
      "text/html": [
       "<div>\n",
       "<style scoped>\n",
       "    .dataframe tbody tr th:only-of-type {\n",
       "        vertical-align: middle;\n",
       "    }\n",
       "\n",
       "    .dataframe tbody tr th {\n",
       "        vertical-align: top;\n",
       "    }\n",
       "\n",
       "    .dataframe thead th {\n",
       "        text-align: right;\n",
       "    }\n",
       "</style>\n",
       "<table border=\"1\" class=\"dataframe\">\n",
       "  <thead>\n",
       "    <tr style=\"text-align: right;\">\n",
       "      <th></th>\n",
       "      <th>Location</th>\n",
       "      <th>Cuisine</th>\n",
       "      <th>Seating Capacity</th>\n",
       "      <th>Average Meal Price</th>\n",
       "      <th>Marketing Budget</th>\n",
       "      <th>Social Media Followers</th>\n",
       "      <th>Number of Reviews</th>\n",
       "      <th>Avg Review Length</th>\n",
       "      <th>Ambience Score</th>\n",
       "      <th>Service Quality Score</th>\n",
       "      <th>Parking Availability</th>\n",
       "      <th>Weekend Reservations</th>\n",
       "      <th>Weekday Reservations</th>\n",
       "      <th>Revenue</th>\n",
       "    </tr>\n",
       "  </thead>\n",
       "  <tbody>\n",
       "    <tr>\n",
       "      <th>0</th>\n",
       "      <td>Rural</td>\n",
       "      <td>Japanese</td>\n",
       "      <td>38</td>\n",
       "      <td>73.98</td>\n",
       "      <td>2224</td>\n",
       "      <td>23406</td>\n",
       "      <td>185</td>\n",
       "      <td>161.924906</td>\n",
       "      <td>1.3</td>\n",
       "      <td>7.0</td>\n",
       "      <td>Yes</td>\n",
       "      <td>13</td>\n",
       "      <td>4</td>\n",
       "      <td>638945.52</td>\n",
       "    </tr>\n",
       "    <tr>\n",
       "      <th>1</th>\n",
       "      <td>Downtown</td>\n",
       "      <td>Mexican</td>\n",
       "      <td>76</td>\n",
       "      <td>28.11</td>\n",
       "      <td>4416</td>\n",
       "      <td>42741</td>\n",
       "      <td>533</td>\n",
       "      <td>148.759717</td>\n",
       "      <td>2.6</td>\n",
       "      <td>3.4</td>\n",
       "      <td>Yes</td>\n",
       "      <td>48</td>\n",
       "      <td>6</td>\n",
       "      <td>490207.83</td>\n",
       "    </tr>\n",
       "    <tr>\n",
       "      <th>2</th>\n",
       "      <td>Rural</td>\n",
       "      <td>Italian</td>\n",
       "      <td>48</td>\n",
       "      <td>48.29</td>\n",
       "      <td>2796</td>\n",
       "      <td>37285</td>\n",
       "      <td>853</td>\n",
       "      <td>56.849189</td>\n",
       "      <td>5.3</td>\n",
       "      <td>6.7</td>\n",
       "      <td>No</td>\n",
       "      <td>27</td>\n",
       "      <td>14</td>\n",
       "      <td>541368.62</td>\n",
       "    </tr>\n",
       "    <tr>\n",
       "      <th>3</th>\n",
       "      <td>Rural</td>\n",
       "      <td>Italian</td>\n",
       "      <td>34</td>\n",
       "      <td>51.55</td>\n",
       "      <td>1167</td>\n",
       "      <td>15214</td>\n",
       "      <td>82</td>\n",
       "      <td>205.433265</td>\n",
       "      <td>4.6</td>\n",
       "      <td>2.8</td>\n",
       "      <td>Yes</td>\n",
       "      <td>9</td>\n",
       "      <td>17</td>\n",
       "      <td>404556.80</td>\n",
       "    </tr>\n",
       "    <tr>\n",
       "      <th>4</th>\n",
       "      <td>Downtown</td>\n",
       "      <td>Japanese</td>\n",
       "      <td>88</td>\n",
       "      <td>75.98</td>\n",
       "      <td>3639</td>\n",
       "      <td>40171</td>\n",
       "      <td>78</td>\n",
       "      <td>241.681584</td>\n",
       "      <td>8.6</td>\n",
       "      <td>2.1</td>\n",
       "      <td>No</td>\n",
       "      <td>37</td>\n",
       "      <td>26</td>\n",
       "      <td>1491046.35</td>\n",
       "    </tr>\n",
       "  </tbody>\n",
       "</table>\n",
       "</div>"
      ],
      "text/plain": [
       "   Location   Cuisine  Seating Capacity  Average Meal Price  Marketing Budget  \\\n",
       "0     Rural  Japanese                38               73.98              2224   \n",
       "1  Downtown   Mexican                76               28.11              4416   \n",
       "2     Rural   Italian                48               48.29              2796   \n",
       "3     Rural   Italian                34               51.55              1167   \n",
       "4  Downtown  Japanese                88               75.98              3639   \n",
       "\n",
       "   Social Media Followers  Number of Reviews  Avg Review Length  \\\n",
       "0                   23406                185         161.924906   \n",
       "1                   42741                533         148.759717   \n",
       "2                   37285                853          56.849189   \n",
       "3                   15214                 82         205.433265   \n",
       "4                   40171                 78         241.681584   \n",
       "\n",
       "   Ambience Score  Service Quality Score Parking Availability  \\\n",
       "0             1.3                    7.0                  Yes   \n",
       "1             2.6                    3.4                  Yes   \n",
       "2             5.3                    6.7                   No   \n",
       "3             4.6                    2.8                  Yes   \n",
       "4             8.6                    2.1                   No   \n",
       "\n",
       "   Weekend Reservations  Weekday Reservations     Revenue  \n",
       "0                    13                     4   638945.52  \n",
       "1                    48                     6   490207.83  \n",
       "2                    27                    14   541368.62  \n",
       "3                     9                    17   404556.80  \n",
       "4                    37                    26  1491046.35  "
      ]
     },
     "execution_count": 18,
     "metadata": {},
     "output_type": "execute_result"
    }
   ],
   "source": [
    "UselessColumns=[ 'Rating', 'Chef Experience Years'] \n",
    "resData=resData.drop(UselessColumns,axis=1)\n",
    "resData.head()  "
   ]
  },
  {
   "cell_type": "code",
   "execution_count": 19,
   "metadata": {},
   "outputs": [
    {
     "data": {
      "text/html": [
       "<div>\n",
       "<style scoped>\n",
       "    .dataframe tbody tr th:only-of-type {\n",
       "        vertical-align: middle;\n",
       "    }\n",
       "\n",
       "    .dataframe tbody tr th {\n",
       "        vertical-align: top;\n",
       "    }\n",
       "\n",
       "    .dataframe thead th {\n",
       "        text-align: right;\n",
       "    }\n",
       "</style>\n",
       "<table border=\"1\" class=\"dataframe\">\n",
       "  <thead>\n",
       "    <tr style=\"text-align: right;\">\n",
       "      <th></th>\n",
       "      <th>Location</th>\n",
       "      <th>Cuisine</th>\n",
       "      <th>Seating Capacity</th>\n",
       "      <th>Average Meal Price</th>\n",
       "      <th>Marketing Budget</th>\n",
       "      <th>Social Media Followers</th>\n",
       "      <th>Number of Reviews</th>\n",
       "      <th>Avg Review Length</th>\n",
       "      <th>Ambience Score</th>\n",
       "      <th>Service Quality Score</th>\n",
       "      <th>Parking Availability</th>\n",
       "      <th>Weekend Reservations</th>\n",
       "      <th>Weekday Reservations</th>\n",
       "      <th>Revenue</th>\n",
       "    </tr>\n",
       "  </thead>\n",
       "  <tbody>\n",
       "    <tr>\n",
       "      <th>0</th>\n",
       "      <td>Rural</td>\n",
       "      <td>Japanese</td>\n",
       "      <td>38</td>\n",
       "      <td>73.98</td>\n",
       "      <td>2224</td>\n",
       "      <td>23406</td>\n",
       "      <td>185</td>\n",
       "      <td>161.924906</td>\n",
       "      <td>1.3</td>\n",
       "      <td>7.0</td>\n",
       "      <td>Yes</td>\n",
       "      <td>13</td>\n",
       "      <td>4</td>\n",
       "      <td>638945.52</td>\n",
       "    </tr>\n",
       "    <tr>\n",
       "      <th>1</th>\n",
       "      <td>Downtown</td>\n",
       "      <td>Mexican</td>\n",
       "      <td>76</td>\n",
       "      <td>28.11</td>\n",
       "      <td>4416</td>\n",
       "      <td>42741</td>\n",
       "      <td>533</td>\n",
       "      <td>148.759717</td>\n",
       "      <td>2.6</td>\n",
       "      <td>3.4</td>\n",
       "      <td>Yes</td>\n",
       "      <td>48</td>\n",
       "      <td>6</td>\n",
       "      <td>490207.83</td>\n",
       "    </tr>\n",
       "    <tr>\n",
       "      <th>2</th>\n",
       "      <td>Rural</td>\n",
       "      <td>Italian</td>\n",
       "      <td>48</td>\n",
       "      <td>48.29</td>\n",
       "      <td>2796</td>\n",
       "      <td>37285</td>\n",
       "      <td>853</td>\n",
       "      <td>56.849189</td>\n",
       "      <td>5.3</td>\n",
       "      <td>6.7</td>\n",
       "      <td>No</td>\n",
       "      <td>27</td>\n",
       "      <td>14</td>\n",
       "      <td>541368.62</td>\n",
       "    </tr>\n",
       "    <tr>\n",
       "      <th>3</th>\n",
       "      <td>Rural</td>\n",
       "      <td>Italian</td>\n",
       "      <td>34</td>\n",
       "      <td>51.55</td>\n",
       "      <td>1167</td>\n",
       "      <td>15214</td>\n",
       "      <td>82</td>\n",
       "      <td>205.433265</td>\n",
       "      <td>4.6</td>\n",
       "      <td>2.8</td>\n",
       "      <td>Yes</td>\n",
       "      <td>9</td>\n",
       "      <td>17</td>\n",
       "      <td>404556.80</td>\n",
       "    </tr>\n",
       "    <tr>\n",
       "      <th>4</th>\n",
       "      <td>Downtown</td>\n",
       "      <td>Japanese</td>\n",
       "      <td>88</td>\n",
       "      <td>75.98</td>\n",
       "      <td>3639</td>\n",
       "      <td>40171</td>\n",
       "      <td>78</td>\n",
       "      <td>241.681584</td>\n",
       "      <td>8.6</td>\n",
       "      <td>2.1</td>\n",
       "      <td>No</td>\n",
       "      <td>37</td>\n",
       "      <td>26</td>\n",
       "      <td>1491046.35</td>\n",
       "    </tr>\n",
       "  </tbody>\n",
       "</table>\n",
       "</div>"
      ],
      "text/plain": [
       "   Location   Cuisine  Seating Capacity  Average Meal Price  Marketing Budget  \\\n",
       "0     Rural  Japanese                38               73.98              2224   \n",
       "1  Downtown   Mexican                76               28.11              4416   \n",
       "2     Rural   Italian                48               48.29              2796   \n",
       "3     Rural   Italian                34               51.55              1167   \n",
       "4  Downtown  Japanese                88               75.98              3639   \n",
       "\n",
       "   Social Media Followers  Number of Reviews  Avg Review Length  \\\n",
       "0                   23406                185         161.924906   \n",
       "1                   42741                533         148.759717   \n",
       "2                   37285                853          56.849189   \n",
       "3                   15214                 82         205.433265   \n",
       "4                   40171                 78         241.681584   \n",
       "\n",
       "   Ambience Score  Service Quality Score Parking Availability  \\\n",
       "0             1.3                    7.0                  Yes   \n",
       "1             2.6                    3.4                  Yes   \n",
       "2             5.3                    6.7                   No   \n",
       "3             4.6                    2.8                  Yes   \n",
       "4             8.6                    2.1                   No   \n",
       "\n",
       "   Weekend Reservations  Weekday Reservations     Revenue  \n",
       "0                    13                     4   638945.52  \n",
       "1                    48                     6   490207.83  \n",
       "2                    27                    14   541368.62  \n",
       "3                     9                    17   404556.80  \n",
       "4                    37                    26  1491046.35  "
      ]
     },
     "execution_count": 19,
     "metadata": {},
     "output_type": "execute_result"
    }
   ],
   "source": [
    "resData.head(5) "
   ]
  },
  {
   "cell_type": "code",
   "execution_count": 20,
   "metadata": {
    "scrolled": true
   },
   "outputs": [
    {
     "data": {
      "text/html": [
       "<div>\n",
       "<style scoped>\n",
       "    .dataframe tbody tr th:only-of-type {\n",
       "        vertical-align: middle;\n",
       "    }\n",
       "\n",
       "    .dataframe tbody tr th {\n",
       "        vertical-align: top;\n",
       "    }\n",
       "\n",
       "    .dataframe thead th {\n",
       "        text-align: right;\n",
       "    }\n",
       "</style>\n",
       "<table border=\"1\" class=\"dataframe\">\n",
       "  <thead>\n",
       "    <tr style=\"text-align: right;\">\n",
       "      <th></th>\n",
       "      <th>Location</th>\n",
       "      <th>Cuisine</th>\n",
       "      <th>Seating Capacity</th>\n",
       "      <th>Average Meal Price</th>\n",
       "      <th>Marketing Budget</th>\n",
       "      <th>Social Media Followers</th>\n",
       "      <th>Number of Reviews</th>\n",
       "      <th>Avg Review Length</th>\n",
       "      <th>Ambience Score</th>\n",
       "      <th>Service Quality Score</th>\n",
       "      <th>Weekend Reservations</th>\n",
       "      <th>Weekday Reservations</th>\n",
       "      <th>Revenue</th>\n",
       "    </tr>\n",
       "  </thead>\n",
       "  <tbody>\n",
       "    <tr>\n",
       "      <th>0</th>\n",
       "      <td>Rural</td>\n",
       "      <td>Japanese</td>\n",
       "      <td>38</td>\n",
       "      <td>73.98</td>\n",
       "      <td>2224</td>\n",
       "      <td>23406</td>\n",
       "      <td>185</td>\n",
       "      <td>161.924906</td>\n",
       "      <td>1.3</td>\n",
       "      <td>7.0</td>\n",
       "      <td>13</td>\n",
       "      <td>4</td>\n",
       "      <td>638945.52</td>\n",
       "    </tr>\n",
       "    <tr>\n",
       "      <th>1</th>\n",
       "      <td>Downtown</td>\n",
       "      <td>Mexican</td>\n",
       "      <td>76</td>\n",
       "      <td>28.11</td>\n",
       "      <td>4416</td>\n",
       "      <td>42741</td>\n",
       "      <td>533</td>\n",
       "      <td>148.759717</td>\n",
       "      <td>2.6</td>\n",
       "      <td>3.4</td>\n",
       "      <td>48</td>\n",
       "      <td>6</td>\n",
       "      <td>490207.83</td>\n",
       "    </tr>\n",
       "    <tr>\n",
       "      <th>2</th>\n",
       "      <td>Rural</td>\n",
       "      <td>Italian</td>\n",
       "      <td>48</td>\n",
       "      <td>48.29</td>\n",
       "      <td>2796</td>\n",
       "      <td>37285</td>\n",
       "      <td>853</td>\n",
       "      <td>56.849189</td>\n",
       "      <td>5.3</td>\n",
       "      <td>6.7</td>\n",
       "      <td>27</td>\n",
       "      <td>14</td>\n",
       "      <td>541368.62</td>\n",
       "    </tr>\n",
       "    <tr>\n",
       "      <th>3</th>\n",
       "      <td>Rural</td>\n",
       "      <td>Italian</td>\n",
       "      <td>34</td>\n",
       "      <td>51.55</td>\n",
       "      <td>1167</td>\n",
       "      <td>15214</td>\n",
       "      <td>82</td>\n",
       "      <td>205.433265</td>\n",
       "      <td>4.6</td>\n",
       "      <td>2.8</td>\n",
       "      <td>9</td>\n",
       "      <td>17</td>\n",
       "      <td>404556.80</td>\n",
       "    </tr>\n",
       "    <tr>\n",
       "      <th>4</th>\n",
       "      <td>Downtown</td>\n",
       "      <td>Japanese</td>\n",
       "      <td>88</td>\n",
       "      <td>75.98</td>\n",
       "      <td>3639</td>\n",
       "      <td>40171</td>\n",
       "      <td>78</td>\n",
       "      <td>241.681584</td>\n",
       "      <td>8.6</td>\n",
       "      <td>2.1</td>\n",
       "      <td>37</td>\n",
       "      <td>26</td>\n",
       "      <td>1491046.35</td>\n",
       "    </tr>\n",
       "  </tbody>\n",
       "</table>\n",
       "</div>"
      ],
      "text/plain": [
       "   Location   Cuisine  Seating Capacity  Average Meal Price  Marketing Budget  \\\n",
       "0     Rural  Japanese                38               73.98              2224   \n",
       "1  Downtown   Mexican                76               28.11              4416   \n",
       "2     Rural   Italian                48               48.29              2796   \n",
       "3     Rural   Italian                34               51.55              1167   \n",
       "4  Downtown  Japanese                88               75.98              3639   \n",
       "\n",
       "   Social Media Followers  Number of Reviews  Avg Review Length  \\\n",
       "0                   23406                185         161.924906   \n",
       "1                   42741                533         148.759717   \n",
       "2                   37285                853          56.849189   \n",
       "3                   15214                 82         205.433265   \n",
       "4                   40171                 78         241.681584   \n",
       "\n",
       "   Ambience Score  Service Quality Score  Weekend Reservations  \\\n",
       "0             1.3                    7.0                    13   \n",
       "1             2.6                    3.4                    48   \n",
       "2             5.3                    6.7                    27   \n",
       "3             4.6                    2.8                     9   \n",
       "4             8.6                    2.1                    37   \n",
       "\n",
       "   Weekday Reservations     Revenue  \n",
       "0                     4   638945.52  \n",
       "1                     6   490207.83  \n",
       "2                    14   541368.62  \n",
       "3                    17   404556.80  \n",
       "4                    26  1491046.35  "
      ]
     },
     "execution_count": 20,
     "metadata": {},
     "output_type": "execute_result"
    }
   ],
   "source": [
    "ul=['Parking Availability'] \n",
    "resData=resData.drop(ul,axis=1)  \n",
    "resData.head() "
   ]
  },
  {
   "cell_type": "markdown",
   "metadata": {},
   "source": [
    "## Bar Charts Interpretation\n",
    "These bar charts represent the frequencies of each category in the Y-axis and the category names in the X-axis.\n",
    "\n",
    "In the ideal bar chart each category has comparable frequency. Hence, there are enough rows for each category in the data for the ML algorithm to learn.\n",
    "\n",
    "If there is a column which shows too skewed distribution where there is only one dominant bar and the other categories are present in very low numbers. These kind of columns may not be very helpful in machine learning. We confirm this in the correlation analysis section and take a final call to select or reject the column.\n",
    "\n",
    "<b>Selected Categorical Variables</b>: All the categorical variables are selected for further analysis.\n",
    "\n",
    "'FuelType', 'HP', 'MetColor', 'Automatic', 'CC', 'Doors'"
   ]
  },
  {
   "cell_type": "code",
   "execution_count": 21,
   "metadata": {},
   "outputs": [
    {
     "data": {
      "text/html": [
       "<div>\n",
       "<style scoped>\n",
       "    .dataframe tbody tr th:only-of-type {\n",
       "        vertical-align: middle;\n",
       "    }\n",
       "\n",
       "    .dataframe tbody tr th {\n",
       "        vertical-align: top;\n",
       "    }\n",
       "\n",
       "    .dataframe thead th {\n",
       "        text-align: right;\n",
       "    }\n",
       "</style>\n",
       "<table border=\"1\" class=\"dataframe\">\n",
       "  <thead>\n",
       "    <tr style=\"text-align: right;\">\n",
       "      <th></th>\n",
       "      <th>Location</th>\n",
       "      <th>Cuisine</th>\n",
       "      <th>Seating Capacity</th>\n",
       "      <th>Average Meal Price</th>\n",
       "      <th>Marketing Budget</th>\n",
       "      <th>Social Media Followers</th>\n",
       "      <th>Number of Reviews</th>\n",
       "      <th>Avg Review Length</th>\n",
       "      <th>Ambience Score</th>\n",
       "      <th>Service Quality Score</th>\n",
       "      <th>Weekend Reservations</th>\n",
       "      <th>Weekday Reservations</th>\n",
       "      <th>Revenue</th>\n",
       "    </tr>\n",
       "  </thead>\n",
       "  <tbody>\n",
       "    <tr>\n",
       "      <th>0</th>\n",
       "      <td>Rural</td>\n",
       "      <td>Japanese</td>\n",
       "      <td>38</td>\n",
       "      <td>73.98</td>\n",
       "      <td>2224</td>\n",
       "      <td>23406</td>\n",
       "      <td>185</td>\n",
       "      <td>161.924906</td>\n",
       "      <td>1.3</td>\n",
       "      <td>7.0</td>\n",
       "      <td>13</td>\n",
       "      <td>4</td>\n",
       "      <td>638945.52</td>\n",
       "    </tr>\n",
       "    <tr>\n",
       "      <th>1</th>\n",
       "      <td>Downtown</td>\n",
       "      <td>Mexican</td>\n",
       "      <td>76</td>\n",
       "      <td>28.11</td>\n",
       "      <td>4416</td>\n",
       "      <td>42741</td>\n",
       "      <td>533</td>\n",
       "      <td>148.759717</td>\n",
       "      <td>2.6</td>\n",
       "      <td>3.4</td>\n",
       "      <td>48</td>\n",
       "      <td>6</td>\n",
       "      <td>490207.83</td>\n",
       "    </tr>\n",
       "    <tr>\n",
       "      <th>2</th>\n",
       "      <td>Rural</td>\n",
       "      <td>Italian</td>\n",
       "      <td>48</td>\n",
       "      <td>48.29</td>\n",
       "      <td>2796</td>\n",
       "      <td>37285</td>\n",
       "      <td>853</td>\n",
       "      <td>56.849189</td>\n",
       "      <td>5.3</td>\n",
       "      <td>6.7</td>\n",
       "      <td>27</td>\n",
       "      <td>14</td>\n",
       "      <td>541368.62</td>\n",
       "    </tr>\n",
       "    <tr>\n",
       "      <th>3</th>\n",
       "      <td>Rural</td>\n",
       "      <td>Italian</td>\n",
       "      <td>34</td>\n",
       "      <td>51.55</td>\n",
       "      <td>1167</td>\n",
       "      <td>15214</td>\n",
       "      <td>82</td>\n",
       "      <td>205.433265</td>\n",
       "      <td>4.6</td>\n",
       "      <td>2.8</td>\n",
       "      <td>9</td>\n",
       "      <td>17</td>\n",
       "      <td>404556.80</td>\n",
       "    </tr>\n",
       "    <tr>\n",
       "      <th>4</th>\n",
       "      <td>Downtown</td>\n",
       "      <td>Japanese</td>\n",
       "      <td>88</td>\n",
       "      <td>75.98</td>\n",
       "      <td>3639</td>\n",
       "      <td>40171</td>\n",
       "      <td>78</td>\n",
       "      <td>241.681584</td>\n",
       "      <td>8.6</td>\n",
       "      <td>2.1</td>\n",
       "      <td>37</td>\n",
       "      <td>26</td>\n",
       "      <td>1491046.35</td>\n",
       "    </tr>\n",
       "  </tbody>\n",
       "</table>\n",
       "</div>"
      ],
      "text/plain": [
       "   Location   Cuisine  Seating Capacity  Average Meal Price  Marketing Budget  \\\n",
       "0     Rural  Japanese                38               73.98              2224   \n",
       "1  Downtown   Mexican                76               28.11              4416   \n",
       "2     Rural   Italian                48               48.29              2796   \n",
       "3     Rural   Italian                34               51.55              1167   \n",
       "4  Downtown  Japanese                88               75.98              3639   \n",
       "\n",
       "   Social Media Followers  Number of Reviews  Avg Review Length  \\\n",
       "0                   23406                185         161.924906   \n",
       "1                   42741                533         148.759717   \n",
       "2                   37285                853          56.849189   \n",
       "3                   15214                 82         205.433265   \n",
       "4                   40171                 78         241.681584   \n",
       "\n",
       "   Ambience Score  Service Quality Score  Weekend Reservations  \\\n",
       "0             1.3                    7.0                    13   \n",
       "1             2.6                    3.4                    48   \n",
       "2             5.3                    6.7                    27   \n",
       "3             4.6                    2.8                     9   \n",
       "4             8.6                    2.1                    37   \n",
       "\n",
       "   Weekday Reservations     Revenue  \n",
       "0                     4   638945.52  \n",
       "1                     6   490207.83  \n",
       "2                    14   541368.62  \n",
       "3                    17   404556.80  \n",
       "4                    26  1491046.35  "
      ]
     },
     "execution_count": 21,
     "metadata": {},
     "output_type": "execute_result"
    }
   ],
   "source": [
    "resData.head()"
   ]
  },
  {
   "cell_type": "code",
   "execution_count": null,
   "metadata": {},
   "outputs": [],
   "source": []
  },
  {
   "cell_type": "markdown",
   "metadata": {},
   "source": [
    "### Visualize distribution of all the Continuous Predictor variables in the data using histograms\n",
    "Based on the Basic Data Exploration, Three continuous predictor variables 'ApplicantIncome', 'CoapplicantIncome',and 'LoanAmount'."
   ]
  },
  {
   "cell_type": "code",
   "execution_count": 10,
   "metadata": {},
   "outputs": [
    {
     "data": {
      "text/plain": [
       "array([[<Axes: title={'center': 'Average Meal Price'}>,\n",
       "        <Axes: title={'center': 'Revenue'}>]], dtype=object)"
      ]
     },
     "execution_count": 10,
     "metadata": {},
     "output_type": "execute_result"
    },
    {
     "data": {
      "image/png": "[encoded data removed]",
      "text/plain": [
       "<Figure size 1000x500 with 2 Axes>"
      ]
     },
     "metadata": {},
     "output_type": "display_data"
    }
   ],
   "source": [
    "# Plotting histograms of multiple columns together\n",
    "resData.hist(['Average Meal Price','Revenue'], figsize=(10,5))  "
   ]
  },
  {
   "cell_type": "markdown",
   "metadata": {},
   "source": [
    "## Histogram Interpretation\n",
    "Histograms shows us the data distribution for a single continuous variable.\n",
    "\n",
    "The X-axis shows the range of values and Y-axis represent the number of values in that range. For example, in the above histogram of \"Age\", there are around 300 rows in data that has a value between 70 to 80.\n",
    "\n",
    "The ideal outcome for histogram is a bell curve or slightly skewed bell curve. If there is too much skewness, then outlier treatment should be done and the column should be re-examined, if that also does not solve the problem then only reject the column.\n",
    "\n",
    "<b>Selected Continuous Variables:</b>\n",
    "* <b>Price</b> : Selected. The distribution is good. Outliers are seen near 30000, need to treat them\n",
    "* <b>KM</b>: Selected. The distribution is good.\n",
    "* <b>Age</b>: Selected. The distribution is good.\n",
    "* <b>Weight</b>: Selected. The distribution is good. Outliers are seen beyond 1400, need to treat them."
   ]
  },
  {
   "cell_type": "code",
   "execution_count": 23,
   "metadata": {},
   "outputs": [
    {
     "data": {
      "text/plain": [
       "Location                     3\n",
       "Cuisine                      6\n",
       "Seating Capacity            61\n",
       "Average Meal Price        3966\n",
       "Marketing Budget          4396\n",
       "Social Media Followers    7799\n",
       "Number of Reviews          949\n",
       "Avg Review Length         8368\n",
       "Ambience Score              91\n",
       "Service Quality Score       91\n",
       "Weekend Reservations        89\n",
       "Weekday Reservations        89\n",
       "Revenue                   8368\n",
       "dtype: int64"
      ]
     },
     "execution_count": 23,
     "metadata": {},
     "output_type": "execute_result"
    }
   ],
   "source": [
    "resData.nunique()"
   ]
  },
  {
   "cell_type": "code",
   "execution_count": 24,
   "metadata": {
    "scrolled": true
   },
   "outputs": [
    {
     "data": {
      "text/plain": [
       "array([[<Axes: title={'center': 'Seating Capacity'}>,\n",
       "        <Axes: title={'center': 'Average Meal Price'}>,\n",
       "        <Axes: title={'center': 'Marketing Budget'}>],\n",
       "       [<Axes: title={'center': 'Social Media Followers'}>,\n",
       "        <Axes: title={'center': 'Number of Reviews'}>,\n",
       "        <Axes: title={'center': 'Avg Review Length'}>],\n",
       "       [<Axes: title={'center': 'Ambience Score'}>,\n",
       "        <Axes: title={'center': 'Service Quality Score'}>,\n",
       "        <Axes: title={'center': 'Weekend Reservations'}>],\n",
       "       [<Axes: title={'center': 'Weekday Reservations'}>,\n",
       "        <Axes: title={'center': 'Revenue'}>, <Axes: >]], dtype=object)"
      ]
     },
     "execution_count": 24,
     "metadata": {},
     "output_type": "execute_result"
    },
    {
     "data": {
      "image/png": "[encoded data removed]",
      "text/plain": [
       "<Figure size 5000x3000 with 12 Axes>"
      ]
     },
     "metadata": {},
     "output_type": "display_data"
    }
   ],
   "source": [
    "resData.hist(['Seating Capacity','Average Meal Price', 'Marketing Budget' , 'Social Media Followers','Number of Reviews','Avg Review Length','Ambience Score',\n",
    "'Service Quality Score','Weekend Reservations','Weekday Reservations','Revenue'], figsize=(50,30))   "
   ]
  },
  {
   "cell_type": "code",
   "execution_count": 25,
   "metadata": {},
   "outputs": [],
   "source": [
    "finalisedvariables=['Seating Capacity','Number of Reviews','Avg Review Length','Ambience Score','Service Quality Score'] "
   ]
  },
  {
   "cell_type": "code",
   "execution_count": 26,
   "metadata": {},
   "outputs": [],
   "source": [
    "resData=resData.drop(finalisedvariables,axis=1)  "
   ]
  },
  {
   "cell_type": "code",
   "execution_count": 27,
   "metadata": {},
   "outputs": [
    {
     "data": {
      "text/html": [
       "<div>\n",
       "<style scoped>\n",
       "    .dataframe tbody tr th:only-of-type {\n",
       "        vertical-align: middle;\n",
       "    }\n",
       "\n",
       "    .dataframe tbody tr th {\n",
       "        vertical-align: top;\n",
       "    }\n",
       "\n",
       "    .dataframe thead th {\n",
       "        text-align: right;\n",
       "    }\n",
       "</style>\n",
       "<table border=\"1\" class=\"dataframe\">\n",
       "  <thead>\n",
       "    <tr style=\"text-align: right;\">\n",
       "      <th></th>\n",
       "      <th>Location</th>\n",
       "      <th>Cuisine</th>\n",
       "      <th>Average Meal Price</th>\n",
       "      <th>Marketing Budget</th>\n",
       "      <th>Social Media Followers</th>\n",
       "      <th>Weekend Reservations</th>\n",
       "      <th>Weekday Reservations</th>\n",
       "      <th>Revenue</th>\n",
       "    </tr>\n",
       "  </thead>\n",
       "  <tbody>\n",
       "    <tr>\n",
       "      <th>0</th>\n",
       "      <td>Rural</td>\n",
       "      <td>Japanese</td>\n",
       "      <td>73.98</td>\n",
       "      <td>2224</td>\n",
       "      <td>23406</td>\n",
       "      <td>13</td>\n",
       "      <td>4</td>\n",
       "      <td>638945.52</td>\n",
       "    </tr>\n",
       "    <tr>\n",
       "      <th>1</th>\n",
       "      <td>Downtown</td>\n",
       "      <td>Mexican</td>\n",
       "      <td>28.11</td>\n",
       "      <td>4416</td>\n",
       "      <td>42741</td>\n",
       "      <td>48</td>\n",
       "      <td>6</td>\n",
       "      <td>490207.83</td>\n",
       "    </tr>\n",
       "    <tr>\n",
       "      <th>2</th>\n",
       "      <td>Rural</td>\n",
       "      <td>Italian</td>\n",
       "      <td>48.29</td>\n",
       "      <td>2796</td>\n",
       "      <td>37285</td>\n",
       "      <td>27</td>\n",
       "      <td>14</td>\n",
       "      <td>541368.62</td>\n",
       "    </tr>\n",
       "    <tr>\n",
       "      <th>3</th>\n",
       "      <td>Rural</td>\n",
       "      <td>Italian</td>\n",
       "      <td>51.55</td>\n",
       "      <td>1167</td>\n",
       "      <td>15214</td>\n",
       "      <td>9</td>\n",
       "      <td>17</td>\n",
       "      <td>404556.80</td>\n",
       "    </tr>\n",
       "    <tr>\n",
       "      <th>4</th>\n",
       "      <td>Downtown</td>\n",
       "      <td>Japanese</td>\n",
       "      <td>75.98</td>\n",
       "      <td>3639</td>\n",
       "      <td>40171</td>\n",
       "      <td>37</td>\n",
       "      <td>26</td>\n",
       "      <td>1491046.35</td>\n",
       "    </tr>\n",
       "  </tbody>\n",
       "</table>\n",
       "</div>"
      ],
      "text/plain": [
       "   Location   Cuisine  Average Meal Price  Marketing Budget  \\\n",
       "0     Rural  Japanese               73.98              2224   \n",
       "1  Downtown   Mexican               28.11              4416   \n",
       "2     Rural   Italian               48.29              2796   \n",
       "3     Rural   Italian               51.55              1167   \n",
       "4  Downtown  Japanese               75.98              3639   \n",
       "\n",
       "   Social Media Followers  Weekend Reservations  Weekday Reservations  \\\n",
       "0                   23406                    13                     4   \n",
       "1                   42741                    48                     6   \n",
       "2                   37285                    27                    14   \n",
       "3                   15214                     9                    17   \n",
       "4                   40171                    37                    26   \n",
       "\n",
       "      Revenue  \n",
       "0   638945.52  \n",
       "1   490207.83  \n",
       "2   541368.62  \n",
       "3   404556.80  \n",
       "4  1491046.35  "
      ]
     },
     "execution_count": 27,
     "metadata": {},
     "output_type": "execute_result"
    }
   ],
   "source": [
    "resData.head()"
   ]
  },
  {
   "cell_type": "code",
   "execution_count": 28,
   "metadata": {},
   "outputs": [
    {
     "data": {
      "text/plain": [
       "<pandas.core.groupby.generic.DataFrameGroupBy object at 0x00000243BCFF9350>"
      ]
     },
     "execution_count": 28,
     "metadata": {},
     "output_type": "execute_result"
    }
   ],
   "source": [
    "resData=resData.groupby(['Revenue'])\n",
    "resData"
   ]
  },
  {
   "cell_type": "code",
   "execution_count": 29,
   "metadata": {},
   "outputs": [
    {
     "data": {
      "text/html": [
       "<div>\n",
       "<style scoped>\n",
       "    .dataframe tbody tr th:only-of-type {\n",
       "        vertical-align: middle;\n",
       "    }\n",
       "\n",
       "    .dataframe tbody tr th {\n",
       "        vertical-align: top;\n",
       "    }\n",
       "\n",
       "    .dataframe thead th {\n",
       "        text-align: right;\n",
       "    }\n",
       "</style>\n",
       "<table border=\"1\" class=\"dataframe\">\n",
       "  <thead>\n",
       "    <tr style=\"text-align: right;\">\n",
       "      <th></th>\n",
       "      <th>Location</th>\n",
       "      <th>Cuisine</th>\n",
       "      <th>Average Meal Price</th>\n",
       "      <th>Marketing Budget</th>\n",
       "      <th>Social Media Followers</th>\n",
       "      <th>Weekend Reservations</th>\n",
       "      <th>Weekday Reservations</th>\n",
       "      <th>Revenue</th>\n",
       "    </tr>\n",
       "  </thead>\n",
       "  <tbody>\n",
       "    <tr>\n",
       "      <th>0</th>\n",
       "      <td>Rural</td>\n",
       "      <td>Japanese</td>\n",
       "      <td>73.98</td>\n",
       "      <td>2224</td>\n",
       "      <td>23406</td>\n",
       "      <td>13</td>\n",
       "      <td>4</td>\n",
       "      <td>638945.52</td>\n",
       "    </tr>\n",
       "    <tr>\n",
       "      <th>1</th>\n",
       "      <td>Downtown</td>\n",
       "      <td>Mexican</td>\n",
       "      <td>28.11</td>\n",
       "      <td>4416</td>\n",
       "      <td>42741</td>\n",
       "      <td>48</td>\n",
       "      <td>6</td>\n",
       "      <td>490207.83</td>\n",
       "    </tr>\n",
       "    <tr>\n",
       "      <th>2</th>\n",
       "      <td>Rural</td>\n",
       "      <td>Italian</td>\n",
       "      <td>48.29</td>\n",
       "      <td>2796</td>\n",
       "      <td>37285</td>\n",
       "      <td>27</td>\n",
       "      <td>14</td>\n",
       "      <td>541368.62</td>\n",
       "    </tr>\n",
       "    <tr>\n",
       "      <th>3</th>\n",
       "      <td>Rural</td>\n",
       "      <td>Italian</td>\n",
       "      <td>51.55</td>\n",
       "      <td>1167</td>\n",
       "      <td>15214</td>\n",
       "      <td>9</td>\n",
       "      <td>17</td>\n",
       "      <td>404556.80</td>\n",
       "    </tr>\n",
       "    <tr>\n",
       "      <th>4</th>\n",
       "      <td>Downtown</td>\n",
       "      <td>Japanese</td>\n",
       "      <td>75.98</td>\n",
       "      <td>3639</td>\n",
       "      <td>40171</td>\n",
       "      <td>37</td>\n",
       "      <td>26</td>\n",
       "      <td>1491046.35</td>\n",
       "    </tr>\n",
       "    <tr>\n",
       "      <th>...</th>\n",
       "      <td>...</td>\n",
       "      <td>...</td>\n",
       "      <td>...</td>\n",
       "      <td>...</td>\n",
       "      <td>...</td>\n",
       "      <td>...</td>\n",
       "      <td>...</td>\n",
       "      <td>...</td>\n",
       "    </tr>\n",
       "    <tr>\n",
       "      <th>8363</th>\n",
       "      <td>Suburban</td>\n",
       "      <td>Indian</td>\n",
       "      <td>34.85</td>\n",
       "      <td>1102</td>\n",
       "      <td>11298</td>\n",
       "      <td>37</td>\n",
       "      <td>0</td>\n",
       "      <td>434653.45</td>\n",
       "    </tr>\n",
       "    <tr>\n",
       "      <th>8364</th>\n",
       "      <td>Rural</td>\n",
       "      <td>Indian</td>\n",
       "      <td>36.88</td>\n",
       "      <td>1988</td>\n",
       "      <td>20432</td>\n",
       "      <td>37</td>\n",
       "      <td>21</td>\n",
       "      <td>414977.92</td>\n",
       "    </tr>\n",
       "    <tr>\n",
       "      <th>8365</th>\n",
       "      <td>Downtown</td>\n",
       "      <td>Italian</td>\n",
       "      <td>46.87</td>\n",
       "      <td>5949</td>\n",
       "      <td>63945</td>\n",
       "      <td>83</td>\n",
       "      <td>21</td>\n",
       "      <td>930395.87</td>\n",
       "    </tr>\n",
       "    <tr>\n",
       "      <th>8366</th>\n",
       "      <td>Rural</td>\n",
       "      <td>American</td>\n",
       "      <td>44.53</td>\n",
       "      <td>707</td>\n",
       "      <td>7170</td>\n",
       "      <td>6</td>\n",
       "      <td>21</td>\n",
       "      <td>311493.48</td>\n",
       "    </tr>\n",
       "    <tr>\n",
       "      <th>8367</th>\n",
       "      <td>Rural</td>\n",
       "      <td>Japanese</td>\n",
       "      <td>71.07</td>\n",
       "      <td>2003</td>\n",
       "      <td>24268</td>\n",
       "      <td>5</td>\n",
       "      <td>12</td>\n",
       "      <td>534142.98</td>\n",
       "    </tr>\n",
       "  </tbody>\n",
       "</table>\n",
       "<p>8368 rows × 8 columns</p>\n",
       "</div>"
      ],
      "text/plain": [
       "      Location   Cuisine  Average Meal Price  Marketing Budget  \\\n",
       "0        Rural  Japanese               73.98              2224   \n",
       "1     Downtown   Mexican               28.11              4416   \n",
       "2        Rural   Italian               48.29              2796   \n",
       "3        Rural   Italian               51.55              1167   \n",
       "4     Downtown  Japanese               75.98              3639   \n",
       "...        ...       ...                 ...               ...   \n",
       "8363  Suburban    Indian               34.85              1102   \n",
       "8364     Rural    Indian               36.88              1988   \n",
       "8365  Downtown   Italian               46.87              5949   \n",
       "8366     Rural  American               44.53               707   \n",
       "8367     Rural  Japanese               71.07              2003   \n",
       "\n",
       "      Social Media Followers  Weekend Reservations  Weekday Reservations  \\\n",
       "0                      23406                    13                     4   \n",
       "1                      42741                    48                     6   \n",
       "2                      37285                    27                    14   \n",
       "3                      15214                     9                    17   \n",
       "4                      40171                    37                    26   \n",
       "...                      ...                   ...                   ...   \n",
       "8363                   11298                    37                     0   \n",
       "8364                   20432                    37                    21   \n",
       "8365                   63945                    83                    21   \n",
       "8366                    7170                     6                    21   \n",
       "8367                   24268                     5                    12   \n",
       "\n",
       "         Revenue  \n",
       "0      638945.52  \n",
       "1      490207.83  \n",
       "2      541368.62  \n",
       "3      404556.80  \n",
       "4     1491046.35  \n",
       "...          ...  \n",
       "8363   434653.45  \n",
       "8364   414977.92  \n",
       "8365   930395.87  \n",
       "8366   311493.48  \n",
       "8367   534142.98  \n",
       "\n",
       "[8368 rows x 8 columns]"
      ]
     },
     "execution_count": 29,
     "metadata": {},
     "output_type": "execute_result"
    }
   ],
   "source": [
    "resData.head(2)"
   ]
  },
  {
   "cell_type": "markdown",
   "metadata": {
    "jp-MarkdownHeadingCollapsed": true
   },
   "source": [
    "# Outlier treatment\n",
    "Outliers are extreme values in the data which are far away from most of the values. You can see them as the tails in the histogram.\n",
    "\n",
    "Outlier must be treated one column at a time. As the treatment will be slightly different for each column.\n",
    "\n",
    "<b>Why I should treat the outliers?</b>\n",
    "\n",
    "Outliers bias the training of machine learning models. As the algorithm tries to fit the extreme value, it goes away from majority of the data.\n",
    "\n",
    "There are below two options to treat outliers in the data. "
   ]
  },
  {
   "cell_type": "markdown",
   "metadata": {},
   "source": [
    "* Option-1: Delete the outlier Records. Only if there are just few rows lost.\n",
    "* Option-2: Impute the outlier values with a logical business value\n",
    "\n",
    "Below we are finding out the most logical value to be replaced in place of outliers by looking at the histogram."
   ]
  },
  {
   "cell_type": "markdown",
   "metadata": {},
   "source": [
    "### Treating outliers for 'Weight' column"
   ]
  },
  {
   "cell_type": "code",
   "execution_count": 30,
   "metadata": {},
   "outputs": [
    {
     "ename": "NameError",
     "evalue": "name 'CarPricesData' is not defined",
     "output_type": "error",
     "traceback": [
      "\u001b[1;31m---------------------------------------------------------------------------\u001b[0m",
      "\u001b[1;31mNameError\u001b[0m                                 Traceback (most recent call last)",
      "Cell \u001b[1;32mIn[30], line 1\u001b[0m\n\u001b[1;32m----> 1\u001b[0m CarPricesData[\u001b[38;5;124m'\u001b[39m\u001b[38;5;124mPrice\u001b[39m\u001b[38;5;124m'\u001b[39m]\u001b[38;5;241m.\u001b[39mhist(figsize\u001b[38;5;241m=\u001b[39m[\u001b[38;5;241m5\u001b[39m,\u001b[38;5;241m3\u001b[39m],bins\u001b[38;5;241m=\u001b[39m\u001b[38;5;241m21\u001b[39m,color\u001b[38;5;241m=\u001b[39m\u001b[38;5;124m'\u001b[39m\u001b[38;5;124msteelblue\u001b[39m\u001b[38;5;124m'\u001b[39m)\n",
      "\u001b[1;31mNameError\u001b[0m: name 'CarPricesData' is not defined"
     ]
    }
   ],
   "source": [
    "CarPricesData['Price'].hist(figsize=[5,3],bins=21,color='steelblue') "
   ]
  },
  {
   "cell_type": "code",
   "execution_count": null,
   "metadata": {},
   "outputs": [],
   "source": [
    "CarPricesData['Price'].hist(figsize=[5,3],bins=21,color='blue') "
   ]
  },
  {
   "cell_type": "code",
   "execution_count": null,
   "metadata": {},
   "outputs": [],
   "source": [
    "CarPricesData['Price'][CarPricesData['Price']>29000]=24990"
   ]
  },
  {
   "cell_type": "code",
   "execution_count": null,
   "metadata": {
    "scrolled": true
   },
   "outputs": [],
   "source": [
    "CarPricesData.info() "
   ]
  },
  {
   "cell_type": "code",
   "execution_count": null,
   "metadata": {},
   "outputs": [],
   "source": [
    "CarPricesData['Weight'].hist(figsize=(5,3),color='steelblue',bins= 25)"
   ]
  },
  {
   "cell_type": "code",
   "execution_count": null,
   "metadata": {
    "scrolled": true
   },
   "outputs": [],
   "source": [
    "CarPricesData['Weight'][CarPricesData['Weight']<1400].sort_values(ascending=False)"
   ]
  },
  {
   "cell_type": "code",
   "execution_count": null,
   "metadata": {},
   "outputs": [],
   "source": [
    "CarPricesData['Weight'][CarPricesData['Weight']>1400]=1320"
   ]
  },
  {
   "cell_type": "code",
   "execution_count": null,
   "metadata": {
    "scrolled": true
   },
   "outputs": [],
   "source": [
    "CarPricesData['Weight'][CarPricesData['Weight']<1400].sort_values(ascending=False)"
   ]
  },
  {
   "cell_type": "code",
   "execution_count": null,
   "metadata": {
    "scrolled": true
   },
   "outputs": [],
   "source": [
    "CarPricesData['Weight'][CarPricesData['Weight']<1400].sort_values(ascending=False)"
   ]
  },
  {
   "cell_type": "code",
   "execution_count": null,
   "metadata": {},
   "outputs": [],
   "source": [
    "CarPricesData['Weight'][CarPricesData['Weight']>1400]"
   ]
  },
  {
   "cell_type": "code",
   "execution_count": null,
   "metadata": {},
   "outputs": [],
   "source": [
    "# Counting the number of rows having outliers\n",
    "len(CarPricesData['Weight'][CarPricesData['Weight']>1400])"
   ]
  },
  {
   "cell_type": "code",
   "execution_count": null,
   "metadata": {},
   "outputs": [],
   "source": [
    "# Finding logical value near 1400\n",
    "CarPricesData['Weight'][CarPricesData['Weight']<1400].sort_values(ascending=False) "
   ]
  },
  {
   "cell_type": "markdown",
   "metadata": {},
   "source": [
    "Based on the above output, the nearest logical value is 1320, hence, replacing any value greater than 1400 with it."
   ]
  },
  {
   "cell_type": "code",
   "execution_count": null,
   "metadata": {},
   "outputs": [],
   "source": [
    "# Replacing outliers with nearest logical value\n",
    "CarPricesData['Weight'][CarPricesData['Weight']>1400]=1320"
   ]
  },
  {
   "cell_type": "markdown",
   "metadata": {},
   "source": [
    "## Treating outliers for Price column"
   ]
  },
  {
   "cell_type": "code",
   "execution_count": null,
   "metadata": {},
   "outputs": [],
   "source": [
    "resData['Revenue'].hist(bins=30,color='steelblue',figsize=(5,3))"
   ]
  },
  {
   "cell_type": "code",
   "execution_count": null,
   "metadata": {},
   "outputs": [],
   "source": [
    "resData.head(6)"
   ]
  },
  {
   "cell_type": "code",
   "execution_count": null,
   "metadata": {},
   "outputs": [],
   "source": [
    "CarPricesData['Weight'].hist(figsize=[10,5]) "
   ]
  },
  {
   "cell_type": "code",
   "execution_count": null,
   "metadata": {
    "scrolled": true
   },
   "outputs": [],
   "source": [
    "CarPricesData['Price'][CarPricesData['Price']<29000].sort_values(ascending=False) "
   ]
  },
  {
   "cell_type": "code",
   "execution_count": null,
   "metadata": {},
   "outputs": [],
   "source": [
    "CarPricesData['Price'][CarPricesData['Price']>29000]=24990"
   ]
  },
  {
   "cell_type": "code",
   "execution_count": null,
   "metadata": {},
   "outputs": [],
   "source": []
  },
  {
   "cell_type": "markdown",
   "metadata": {},
   "source": [
    "# Visualizing the distribution again after outlier treatment"
   ]
  },
  {
   "cell_type": "code",
   "execution_count": null,
   "metadata": {},
   "outputs": [],
   "source": [
    "CarPricesData.columns"
   ]
  },
  {
   "cell_type": "code",
   "execution_count": null,
   "metadata": {},
   "outputs": [],
   "source": [
    "CarPricesData.head()"
   ]
  },
  {
   "cell_type": "code",
   "execution_count": null,
   "metadata": {
    "scrolled": true
   },
   "outputs": [],
   "source": [
    "# Histogram for weight after outlier treatment\n",
    "CarPricesData[['Weight', 'Price']].hist(figsize=(25,5)) "
   ]
  },
  {
   "cell_type": "markdown",
   "metadata": {},
   "source": [
    "The distribution has improved after the outlier treatment. There is still a tail on the right side, but it is thick, hence it is acceptable."
   ]
  },
  {
   "cell_type": "code",
   "execution_count": null,
   "metadata": {},
   "outputs": [],
   "source": [
    "resData.info()"
   ]
  },
  {
   "cell_type": "markdown",
   "metadata": {},
   "source": [
    "# Missing values treatment\n",
    "Missing values are treated for each column separately.\n",
    "\n",
    "If a column has more than 30% data missing, then missing value treatment cannot be done. That column must be rejected because too much information is missing.\n",
    "\n",
    "There are below options for treating missing values in data.\n",
    "\n",
    "* Interpolate the values based on business logic\n",
    "* Impute the missing values with MEDIAN value for continuous variables\n",
    "* Impute the missing values with MODE value for categorical variables\n",
    "* Interpolate the values based on nearby values\n",
    "* Delete the missing value rows if there are only few records"
   ]
  },
  {
   "cell_type": "code",
   "execution_count": null,
   "metadata": {},
   "outputs": [],
   "source": [
    "CarPricesData.head()"
   ]
  },
  {
   "cell_type": "code",
   "execution_count": null,
   "metadata": {
    "scrolled": true
   },
   "outputs": [],
   "source": [
    "CarPricesData.groupby('FuelType').mean() "
   ]
  },
  {
   "cell_type": "code",
   "execution_count": null,
   "metadata": {},
   "outputs": [],
   "source": [
    "CarPricesData.groupby('FuelType')['CC'].mean() "
   ]
  },
  {
   "cell_type": "code",
   "execution_count": null,
   "metadata": {},
   "outputs": [],
   "source": [
    "# Using Business Logic of other column\n",
    "CarPricesData.groupby('FuelType')['CC'].mean()"
   ]
  },
  {
   "cell_type": "code",
   "execution_count": null,
   "metadata": {},
   "outputs": [],
   "source": []
  },
  {
   "cell_type": "code",
   "execution_count": null,
   "metadata": {},
   "outputs": [],
   "source": [
    "# Finding how many missing values are there for each column\n",
    "print(CarPricesData.isnull().sum())\n",
    "CarPricesData.isnull().sum().plot(kind='bar') # Added by Sreya!"
   ]
  },
  {
   "cell_type": "markdown",
   "metadata": {},
   "source": [
    "I am treating missing values with Median for Continuous values, and Mode for categorical values."
   ]
  },
  {
   "cell_type": "code",
   "execution_count": null,
   "metadata": {},
   "outputs": [],
   "source": [
    "CarPricesData['FuelType'].mode()"
   ]
  },
  {
   "cell_type": "code",
   "execution_count": null,
   "metadata": {},
   "outputs": [],
   "source": [
    "CarPricesData['FuelType'].mode()[0]"
   ]
  },
  {
   "cell_type": "code",
   "execution_count": null,
   "metadata": {},
   "outputs": [],
   "source": [
    "CarPricesData['Weight'].median()"
   ]
  },
  {
   "cell_type": "code",
   "execution_count": null,
   "metadata": {},
   "outputs": [],
   "source": [
    "# Treating missing values of categorical variable with MODE value \n",
    "CarPricesData['FuelType'].fillna(value=CarPricesData['FuelType'].mode()[0], inplace=True)\n",
    "CarPricesData['CC'].fillna(value=CarPricesData['CC'].mode()[0], inplace=True) "
   ]
  },
  {
   "cell_type": "code",
   "execution_count": null,
   "metadata": {},
   "outputs": [],
   "source": [
    "CarPricesData.info()"
   ]
  },
  {
   "cell_type": "code",
   "execution_count": null,
   "metadata": {},
   "outputs": [],
   "source": [
    "# Treating missing values of continuous variable with Median value \n",
    "CarPricesData['Weight'].fillna(value=CarPricesData['Weight'].median(), inplace=True) \n",
    "CarPricesData['Age'].fillna(value=CarPricesData['Age'].median(), inplace=True) "
   ]
  },
  {
   "cell_type": "code",
   "execution_count": null,
   "metadata": {},
   "outputs": [],
   "source": [
    "CarPricesData.info()"
   ]
  },
  {
   "cell_type": "code",
   "execution_count": null,
   "metadata": {
    "scrolled": true
   },
   "outputs": [],
   "source": [
    "# Checking missing values again after the treatment\n",
    "CarPricesData.isnull().sum() "
   ]
  },
  {
   "cell_type": "markdown",
   "metadata": {},
   "source": [
    "## interpolation\n",
    "Dont use it when there is skewness in the data"
   ]
  },
  {
   "cell_type": "code",
   "execution_count": null,
   "metadata": {},
   "outputs": [],
   "source": [
    "Age=pd.Series([20,30,np.NaN,np.NaN, 40, 25, np.NaN, 35, np.NaN, np.NaN])\n",
    "Age"
   ]
  },
  {
   "cell_type": "code",
   "execution_count": null,
   "metadata": {},
   "outputs": [],
   "source": [
    "Age.interpolate()"
   ]
  },
  {
   "cell_type": "code",
   "execution_count": null,
   "metadata": {},
   "outputs": [],
   "source": [
    "Gender=pd.Series(['M','F',np.NaN, 'M', 'F', np.NaN, 'Z','O','A','B'])\n",
    "Gender"
   ]
  },
  {
   "cell_type": "code",
   "execution_count": null,
   "metadata": {},
   "outputs": [],
   "source": [
    "Gender.interpolate(method='bfill')"
   ]
  },
  {
   "cell_type": "code",
   "execution_count": null,
   "metadata": {},
   "outputs": [],
   "source": [
    "# interpolating categorical data\n",
    "#CarPricesData['FuelType'].interpolate(method='ffill', inplace=True)"
   ]
  },
  {
   "cell_type": "code",
   "execution_count": null,
   "metadata": {},
   "outputs": [],
   "source": [
    "CarPricesData.head(2)"
   ]
  },
  {
   "cell_type": "code",
   "execution_count": null,
   "metadata": {},
   "outputs": [],
   "source": []
  },
  {
   "cell_type": "markdown",
   "metadata": {},
   "source": [
    "# Feature Selection (Bi-Variate analysis)\n",
    "Now its time to finally choose the best columns(Features) which are correlated to the Target variable.\n",
    "This can be done directly by measuring the correlation values or ANOVA/Chi-Square tests. However, it is always helpful to visualize the relation between the Target variable and each of the predictors to get a better sense of data.\n",
    "\n",
    "I have listed below the techniques used for visualizing relationship between two variables as well as measuring the strength statistically."
   ]
  },
  {
   "cell_type": "markdown",
   "metadata": {
    "jp-MarkdownHeadingCollapsed": true
   },
   "source": [
    "## Visual exploration of relationship between variables\n",
    "* Continuous Vs Continuous ---- Scatter Plot\n",
    "* Categorical Vs Continuous---- Box Plot\n",
    "* Categorical Vs Categorical---- Grouped Bar Plots\n",
    "\n",
    "## Statistical measurement of relationship strength between variables\n",
    "* Continuous Vs Continuous ---- Correlation matrix\n",
    "* Categorical Vs Continuous---- ANOVA test\n",
    "* Categorical Vs Categorical--- Chi-Square test"
   ]
  },
  {
   "cell_type": "markdown",
   "metadata": {},
   "source": [
    "In this case study the Target variable is Continuous, hence below two scenarios will be present\n",
    "* Continuous Target Variable Vs Continuous Predictor\n",
    "* Continuous Target Variable Vs Categorical Predictor"
   ]
  },
  {
   "cell_type": "code",
   "execution_count": null,
   "metadata": {},
   "outputs": [],
   "source": []
  },
  {
   "cell_type": "markdown",
   "metadata": {},
   "source": [
    "# Relationship exploration: Continuous Vs Continuous -- Scatter Charts\n",
    "When the Target variable is continuous and the predictor is also continuous, we can visualize the relationship between the two variables using scatter plot and measure the strength of relation using pearson's correlation value."
   ]
  },
  {
   "cell_type": "code",
   "execution_count": null,
   "metadata": {},
   "outputs": [],
   "source": [
    "resData.head(2)\n"
   ]
  },
  {
   "cell_type": "code",
   "execution_count": null,
   "metadata": {
    "scrolled": true
   },
   "outputs": [],
   "source": [
    "resData.(['Average Meal Price', 'Marketing Budget' , 'Social Media Followers','Cuisine','Rating'\n",
    "'Chef Experience Years','Weekend Reservations','Weekday Reservations','Revenue'])  "
   ]
  },
  {
   "cell_type": "code",
   "execution_count": null,
   "metadata": {
    "scrolled": true
   },
   "outputs": [],
   "source": [
    "resData.nunique() "
   ]
  },
  {
   "cell_type": "code",
   "execution_count": 11,
   "metadata": {},
   "outputs": [
    {
     "data": {
      "image/png": "[encoded data removed]",
      "text/plain": [
       "<Figure size 500x300 with 1 Axes>"
      ]
     },
     "metadata": {},
     "output_type": "display_data"
    }
   ],
   "source": [
    "ContinuousCols=['Average Meal Price'] \n",
    "# Plotting scatter chart for each predictor vs the target variable \n",
    "for predictor in ContinuousCols:  \n",
    "    resData.plot.scatter(x=predictor, y='Revenue', figsize=(5,3), title=predictor+\" VS \"+ 'Price')   "
   ]
  },
  {
   "cell_type": "code",
   "execution_count": null,
   "metadata": {},
   "outputs": [],
   "source": [
    "revenue*avg meal price,marketing budget*social media followers"
   ]
  },
  {
   "cell_type": "markdown",
   "metadata": {},
   "source": [
    "# Scatter charts interpretation\n",
    "<b>What should you look for in these scatter charts? </b>\n",
    "\n",
    "Trend.\n",
    "You should try to see if there is a visible trend or not. There could be three scenarios\n",
    "1. Increasing Trend:\n",
    "This means both variables are positively correlated. In simpler terms, they are directly proportional to each other, if one value increases, other also increases. This is good for ML!\n",
    "\n",
    "2. Decreasing Trend:\n",
    "This means both variables are negatively correlated. In simpler terms, they are inversely proportional to each other, if one value increases, other decreases. This is also good for ML!\n",
    "\n",
    "3. No Trend:\n",
    "You cannot see any clear increasing or decreasing trend. This means there is no correlation between the variables. Hence the predictor cannot be used for ML.\n",
    "\n",
    "Based on this chart you can get a good idea about the predictor, if it will be useful or not.\n",
    "You confirm this by looking at the correlation value."
   ]
  },
  {
   "cell_type": "markdown",
   "metadata": {},
   "source": [
    "# Statistical Feature Selection (Continuous Vs Continuous) using Correlation value\n",
    "\n",
    "Pearson's correlation coefficient can simply be calculated as\n",
    "the covariance between two features $x$ and $y$ (numerator) divided by the product\n",
    "of their standard deviations (denominator):  "
   ]
  },
  {
   "attachments": {
    "image.png": {
     "image/png": "[encoded data removed]"
    }
   },
   "cell_type": "markdown",
   "metadata": {},
   "source": [
    "![image.png](attachment:image.png)"
   ]
  },
  {
   "cell_type": "markdown",
   "metadata": {},
   "source": [
    "* This value can be calculated only between two numeric columns\n",
    "* Correlation between [-1,0) means inversely proportional, the scatter plot will show a downward trend\n",
    "* Correlation between (0,1] means directly proportional, the scatter plot will show a upward trend\n",
    "* Correlation near {0} means No relationship, the scatter plot will show no clear trend.\n",
    "* If Correlation value between two variables is > 0.5 in magnitude, it indicates good relationship <b>the sign does not matter</b>\n",
    "* We observe the correlations between Target variable and all other predictor variables(s) to check which columns/features/predictors are actually related to the target variable in question"
   ]
  },
  {
   "cell_type": "code",
   "execution_count": null,
   "metadata": {},
   "outputs": [],
   "source": [
    "resData.head() "
   ]
  },
  {
   "cell_type": "code",
   "execution_count": null,
   "metadata": {},
   "outputs": [],
   "source": []
  },
  {
   "cell_type": "code",
   "execution_count": 12,
   "metadata": {
    "scrolled": true
   },
   "outputs": [
    {
     "data": {
      "text/html": [
       "<div>\n",
       "<style scoped>\n",
       "    .dataframe tbody tr th:only-of-type {\n",
       "        vertical-align: middle;\n",
       "    }\n",
       "\n",
       "    .dataframe tbody tr th {\n",
       "        vertical-align: top;\n",
       "    }\n",
       "\n",
       "    .dataframe thead th {\n",
       "        text-align: right;\n",
       "    }\n",
       "</style>\n",
       "<table border=\"1\" class=\"dataframe\">\n",
       "  <thead>\n",
       "    <tr style=\"text-align: right;\">\n",
       "      <th></th>\n",
       "      <th>Revenue</th>\n",
       "      <th>Average Meal Price</th>\n",
       "      <th>Marketing Budget</th>\n",
       "      <th>Social Media Followers</th>\n",
       "      <th>Weekend Reservations</th>\n",
       "      <th>Weekday Reservations</th>\n",
       "    </tr>\n",
       "  </thead>\n",
       "  <tbody>\n",
       "    <tr>\n",
       "      <th>Revenue</th>\n",
       "      <td>1.000000</td>\n",
       "      <td>0.686365</td>\n",
       "      <td>0.365322</td>\n",
       "      <td>0.354466</td>\n",
       "      <td>0.292400</td>\n",
       "      <td>0.273284</td>\n",
       "    </tr>\n",
       "    <tr>\n",
       "      <th>Average Meal Price</th>\n",
       "      <td>0.686365</td>\n",
       "      <td>1.000000</td>\n",
       "      <td>-0.002054</td>\n",
       "      <td>-0.005753</td>\n",
       "      <td>-0.018072</td>\n",
       "      <td>-0.027837</td>\n",
       "    </tr>\n",
       "    <tr>\n",
       "      <th>Marketing Budget</th>\n",
       "      <td>0.365322</td>\n",
       "      <td>-0.002054</td>\n",
       "      <td>1.000000</td>\n",
       "      <td>0.987511</td>\n",
       "      <td>0.225355</td>\n",
       "      <td>0.221088</td>\n",
       "    </tr>\n",
       "    <tr>\n",
       "      <th>Social Media Followers</th>\n",
       "      <td>0.354466</td>\n",
       "      <td>-0.005753</td>\n",
       "      <td>0.987511</td>\n",
       "      <td>1.000000</td>\n",
       "      <td>0.218451</td>\n",
       "      <td>0.214612</td>\n",
       "    </tr>\n",
       "    <tr>\n",
       "      <th>Weekend Reservations</th>\n",
       "      <td>0.292400</td>\n",
       "      <td>-0.018072</td>\n",
       "      <td>0.225355</td>\n",
       "      <td>0.218451</td>\n",
       "      <td>1.000000</td>\n",
       "      <td>0.179730</td>\n",
       "    </tr>\n",
       "    <tr>\n",
       "      <th>Weekday Reservations</th>\n",
       "      <td>0.273284</td>\n",
       "      <td>-0.027837</td>\n",
       "      <td>0.221088</td>\n",
       "      <td>0.214612</td>\n",
       "      <td>0.179730</td>\n",
       "      <td>1.000000</td>\n",
       "    </tr>\n",
       "  </tbody>\n",
       "</table>\n",
       "</div>"
      ],
      "text/plain": [
       "                         Revenue  Average Meal Price  Marketing Budget  \\\n",
       "Revenue                 1.000000            0.686365          0.365322   \n",
       "Average Meal Price      0.686365            1.000000         -0.002054   \n",
       "Marketing Budget        0.365322           -0.002054          1.000000   \n",
       "Social Media Followers  0.354466           -0.005753          0.987511   \n",
       "Weekend Reservations    0.292400           -0.018072          0.225355   \n",
       "Weekday Reservations    0.273284           -0.027837          0.221088   \n",
       "\n",
       "                        Social Media Followers  Weekend Reservations  \\\n",
       "Revenue                               0.354466              0.292400   \n",
       "Average Meal Price                   -0.005753             -0.018072   \n",
       "Marketing Budget                      0.987511              0.225355   \n",
       "Social Media Followers                1.000000              0.218451   \n",
       "Weekend Reservations                  0.218451              1.000000   \n",
       "Weekday Reservations                  0.214612              0.179730   \n",
       "\n",
       "                        Weekday Reservations  \n",
       "Revenue                             0.273284  \n",
       "Average Meal Price                 -0.027837  \n",
       "Marketing Budget                    0.221088  \n",
       "Social Media Followers              0.214612  \n",
       "Weekend Reservations                0.179730  \n",
       "Weekday Reservations                1.000000  "
      ]
     },
     "execution_count": 12,
     "metadata": {},
     "output_type": "execute_result"
    }
   ],
   "source": [
    "# Calculating correlation matrix\n",
    "ContinuousCols=['Revenue','Average Meal Price','Marketing Budget','Social Media Followers','Weekend Reservations','Weekday Reservations'] \n",
    "\n",
    "# Creating the correlation matrix \n",
    "CorrelationData=resData[ContinuousCols].corr()\n",
    "CorrelationData        "
   ]
  },
  {
   "cell_type": "code",
   "execution_count": 14,
   "metadata": {},
   "outputs": [
    {
     "data": {
      "text/plain": [
       "Revenue               1.000000\n",
       "Average Meal Price    0.686365\n",
       "Name: Revenue, dtype: float64"
      ]
     },
     "execution_count": 14,
     "metadata": {},
     "output_type": "execute_result"
    }
   ],
   "source": [
    "# Filtering only those columns where absolute correlation > 0.5 with Target Variable\n",
    "# reduce the 0.5 threshold if no variable is selected\n",
    "CorrelationData['Revenue'][abs(CorrelationData['Revenue']) > 0.5] "
   ]
  },
  {
   "cell_type": "code",
   "execution_count": null,
   "metadata": {},
   "outputs": [],
   "source": [
    "cd['Price'][abs(cd['Price'])>0.5] "
   ]
  },
  {
   "cell_type": "markdown",
   "metadata": {},
   "source": [
    "<b>Final selected Continuous columns:</b>\n",
    "\n",
    "'Age','KM','Weight'"
   ]
  },
  {
   "cell_type": "code",
   "execution_count": null,
   "metadata": {},
   "outputs": [],
   "source": [
    "abs(CorrelationData['Price'])>0.5"
   ]
  },
  {
   "cell_type": "markdown",
   "metadata": {},
   "source": [
    "# Relationship exploration: Categorical Vs Continuous -- Box Plots\n",
    "When the target variable is Continuous and the predictor variable is Categorical we analyze the relation using Boxplots and measure the strength of relation using Anova test"
   ]
  },
  {
   "cell_type": "code",
   "execution_count": null,
   "metadata": {},
   "outputs": [],
   "source": [
    "resData.nunique()\n"
   ]
  },
  {
   "cell_type": "code",
   "execution_count": 15,
   "metadata": {
    "scrolled": true
   },
   "outputs": [
    {
     "data": {
      "image/png": "[encoded data removed]",
      "text/plain": [
       "<Figure size 5000x1000 with 2 Axes>"
      ]
     },
     "metadata": {},
     "output_type": "display_data"
    }
   ],
   "source": [
    "# Box plots for Categorical Target Variable \"Price\" and continuous predictors\n",
    "CategoricalColsList=[ 'Cuisine','Location']\n",
    "\n",
    "import matplotlib.pyplot as plt\n",
    "fig, PlotCanvas=plt.subplots(nrows=1, ncols=len(CategoricalColsList), figsize=(50,10))\n",
    "\n",
    "# Creating box plots for each continuous predictor against the Target Variable \"Price\" \n",
    "for PredictorCol , i in zip(CategoricalColsList, range(len(CategoricalColsList))):\n",
    "   resData.boxplot(column='Revenue', by=PredictorCol, figsize=(5,5), vert=True, ax=PlotCanvas[i])  "
   ]
  },
  {
   "cell_type": "markdown",
   "metadata": {
    "scrolled": true
   },
   "source": [
    "# Box-Plots interpretation\n",
    "<b>What should you look for in these box plots? </b>\n",
    "\n",
    "These plots gives an idea about the data distribution of continuous predictor in the Y-axis for each of the category in the X-Axis.\n",
    "\n",
    "If the distribution looks similar for each category(Boxes are in the same line), that means the the continuous variable has NO effect on the target variable. Hence, the variables are not correlated to each other.\n",
    "\n",
    "On the other hand if the distribution is different for each category(the boxes are not in same line!). It hints that these variables might be correlated with Price.\n",
    "\n",
    "In this data, all the categorical predictors looks correlated with the Target variable except \"Fueltype\",\"Automatic\" and \"MetColor\" they seems like a border cases, as the boxes are close to each other.\n",
    "\n",
    "We confirm this by looking at the results of ANOVA test below"
   ]
  },
  {
   "cell_type": "code",
   "execution_count": null,
   "metadata": {},
   "outputs": [],
   "source": []
  },
  {
   "cell_type": "markdown",
   "metadata": {},
   "source": [
    "# Statistical Feature Selection (Categorical Vs Continuous) using ANOVA test\n",
    "Analysis of variance(ANOVA) is performed to check if there is any relationship between the given continuous and categorical variable\n",
    "* Assumption(H0): There is NO relation between the given variables (i.e. The average(mean) values of the numeric Target variable is same for all the groups in the categorical Predictor variable)\n",
    "* ANOVA Test result: Probability of H0 being true"
   ]
  },
  {
   "cell_type": "code",
   "execution_count": 16,
   "metadata": {
    "scrolled": true
   },
   "outputs": [
    {
     "ename": "NameError",
     "evalue": "name 'CarPricesData' is not defined",
     "output_type": "error",
     "traceback": [
      "\u001b[1;31m---------------------------------------------------------------------------\u001b[0m",
      "\u001b[1;31mNameError\u001b[0m                                 Traceback (most recent call last)",
      "Cell \u001b[1;32mIn[16], line 1\u001b[0m\n\u001b[1;32m----> 1\u001b[0m CategoryGroupLists\u001b[38;5;241m=\u001b[39mCarPricesData\u001b[38;5;241m.\u001b[39mgroupby(\u001b[38;5;124m'\u001b[39m\u001b[38;5;124mFuelType\u001b[39m\u001b[38;5;124m'\u001b[39m)[\u001b[38;5;124m'\u001b[39m\u001b[38;5;124mPrice\u001b[39m\u001b[38;5;124m'\u001b[39m]\u001b[38;5;241m.\u001b[39mapply(\u001b[38;5;28mlist\u001b[39m)\n\u001b[0;32m      2\u001b[0m CategoryGroupLists\n",
      "\u001b[1;31mNameError\u001b[0m: name 'CarPricesData' is not defined"
     ]
    }
   ],
   "source": [
    "CategoryGroupLists=CarPricesData.groupby('FuelType')['Price'].apply(list)\n",
    "CategoryGroupLists  "
   ]
  },
  {
   "cell_type": "code",
   "execution_count": 17,
   "metadata": {},
   "outputs": [],
   "source": [
    "# Defining a function to find the statistical relationship with all the categorical variables\n",
    "def FunctionAnova(inpData, TargetVariable, CategoricalPredictorList):\n",
    "    from scipy.stats import f_oneway\n",
    "\n",
    "    # Creating an empty list of final selected predictors\n",
    "    SelectedPredictors=[]\n",
    "    \n",
    "    print('##### ANOVA Results ##### \\n')\n",
    "    for predictor in CategoricalPredictorList:\n",
    "        CategoryGroupLists=inpData.groupby(predictor)[TargetVariable].apply(list)\n",
    "        AnovaResults = f_oneway(*CategoryGroupLists)\n",
    "        \n",
    "        # If the ANOVA P-Value is <0.05, that means we reject H0\n",
    "        if (AnovaResults[1] < 0.05):\n",
    "            print(predictor, 'is correlated with', TargetVariable, '| P-Value:', AnovaResults[1])\n",
    "            SelectedPredictors.append(predictor)\n",
    "        else:\n",
    "            # Accepting the H0 if the P value is more than 0.05\n",
    "            print(predictor, 'is NOT correlated with', TargetVariable, '| P-Value:', AnovaResults[1])\n",
    "    \n",
    "    return(SelectedPredictors) \n"
   ]
  },
  {
   "cell_type": "code",
   "execution_count": 18,
   "metadata": {},
   "outputs": [
    {
     "name": "stdout",
     "output_type": "stream",
     "text": [
      "##### ANOVA Results ##### \n",
      "\n",
      "Cuisine is correlated with Revenue | P-Value: 0.0\n",
      "Location is correlated with Revenue | P-Value: 0.0\n"
     ]
    },
    {
     "data": {
      "text/plain": [
       "['Cuisine', 'Location']"
      ]
     },
     "execution_count": 18,
     "metadata": {},
     "output_type": "execute_result"
    }
   ],
   "source": [
    "# Calling the function to check which categorical variables are correlated with target\n",
    "CategoricalPredictorList=[ 'Cuisine','Location']\n",
    "FunctionAnova(inpData=resData, \n",
    "              TargetVariable='Revenue', \n",
    "              CategoricalPredictorList=CategoricalPredictorList)   "
   ]
  },
  {
   "cell_type": "code",
   "execution_count": null,
   "metadata": {},
   "outputs": [],
   "source": []
  },
  {
   "cell_type": "markdown",
   "metadata": {},
   "source": [
    "The results of ANOVA confirm our visual analysis using box plots above.\n",
    "\n",
    "All categorical variables are correlated with the Target variable except \"FuelType\" and \"Automatic\". This is something we guessed by looking at the box plots!\n",
    "\n",
    "<b>Final selected Categorical columns:</b>\n",
    "\n",
    "'HP', 'MetColor', 'CC', 'Doors'"
   ]
  },
  {
   "cell_type": "code",
   "execution_count": null,
   "metadata": {},
   "outputs": [],
   "source": []
  },
  {
   "cell_type": "markdown",
   "metadata": {},
   "source": [
    "# Selecting final predictors for Machine Learning\n",
    "Based on the above tests, selecting the final columns for machine learning"
   ]
  },
  {
   "cell_type": "code",
   "execution_count": 87,
   "metadata": {
    "scrolled": true
   },
   "outputs": [
    {
     "data": {
      "text/html": [
       "<div>\n",
       "<style scoped>\n",
       "    .dataframe tbody tr th:only-of-type {\n",
       "        vertical-align: middle;\n",
       "    }\n",
       "\n",
       "    .dataframe tbody tr th {\n",
       "        vertical-align: top;\n",
       "    }\n",
       "\n",
       "    .dataframe thead th {\n",
       "        text-align: right;\n",
       "    }\n",
       "</style>\n",
       "<table border=\"1\" class=\"dataframe\">\n",
       "  <thead>\n",
       "    <tr style=\"text-align: right;\">\n",
       "      <th></th>\n",
       "      <th>Average Meal Price</th>\n",
       "      <th>Marketing Budget</th>\n",
       "      <th>Social Media Followers</th>\n",
       "      <th>Cuisine</th>\n",
       "      <th>Rating</th>\n",
       "      <th>Chef Experience Years</th>\n",
       "      <th>Weekend Reservations</th>\n",
       "      <th>Weekday Reservations</th>\n",
       "      <th>Location</th>\n",
       "    </tr>\n",
       "  </thead>\n",
       "  <tbody>\n",
       "    <tr>\n",
       "      <th>0</th>\n",
       "      <td>73.98</td>\n",
       "      <td>2224</td>\n",
       "      <td>23406</td>\n",
       "      <td>Japanese</td>\n",
       "      <td>4.0</td>\n",
       "      <td>13</td>\n",
       "      <td>13</td>\n",
       "      <td>4</td>\n",
       "      <td>Rural</td>\n",
       "    </tr>\n",
       "    <tr>\n",
       "      <th>1</th>\n",
       "      <td>28.11</td>\n",
       "      <td>4416</td>\n",
       "      <td>42741</td>\n",
       "      <td>Mexican</td>\n",
       "      <td>3.2</td>\n",
       "      <td>8</td>\n",
       "      <td>48</td>\n",
       "      <td>6</td>\n",
       "      <td>Downtown</td>\n",
       "    </tr>\n",
       "    <tr>\n",
       "      <th>2</th>\n",
       "      <td>48.29</td>\n",
       "      <td>2796</td>\n",
       "      <td>37285</td>\n",
       "      <td>Italian</td>\n",
       "      <td>4.7</td>\n",
       "      <td>18</td>\n",
       "      <td>27</td>\n",
       "      <td>14</td>\n",
       "      <td>Rural</td>\n",
       "    </tr>\n",
       "    <tr>\n",
       "      <th>3</th>\n",
       "      <td>51.55</td>\n",
       "      <td>1167</td>\n",
       "      <td>15214</td>\n",
       "      <td>Italian</td>\n",
       "      <td>4.4</td>\n",
       "      <td>13</td>\n",
       "      <td>9</td>\n",
       "      <td>17</td>\n",
       "      <td>Rural</td>\n",
       "    </tr>\n",
       "    <tr>\n",
       "      <th>4</th>\n",
       "      <td>75.98</td>\n",
       "      <td>3639</td>\n",
       "      <td>40171</td>\n",
       "      <td>Japanese</td>\n",
       "      <td>4.9</td>\n",
       "      <td>9</td>\n",
       "      <td>37</td>\n",
       "      <td>26</td>\n",
       "      <td>Downtown</td>\n",
       "    </tr>\n",
       "  </tbody>\n",
       "</table>\n",
       "</div>"
      ],
      "text/plain": [
       "   Average Meal Price  Marketing Budget  Social Media Followers   Cuisine  \\\n",
       "0               73.98              2224                   23406  Japanese   \n",
       "1               28.11              4416                   42741   Mexican   \n",
       "2               48.29              2796                   37285   Italian   \n",
       "3               51.55              1167                   15214   Italian   \n",
       "4               75.98              3639                   40171  Japanese   \n",
       "\n",
       "   Rating  Chef Experience Years  Weekend Reservations  Weekday Reservations  \\\n",
       "0     4.0                     13                    13                     4   \n",
       "1     3.2                      8                    48                     6   \n",
       "2     4.7                     18                    27                    14   \n",
       "3     4.4                     13                     9                    17   \n",
       "4     4.9                      9                    37                    26   \n",
       "\n",
       "   Location  \n",
       "0     Rural  \n",
       "1  Downtown  \n",
       "2     Rural  \n",
       "3     Rural  \n",
       "4  Downtown  "
      ]
     },
     "execution_count": 87,
     "metadata": {},
     "output_type": "execute_result"
    }
   ],
   "source": [
    "SelectedColumns=['Average Meal Price', 'Marketing Budget' , 'Social Media Followers','Cuisine','Rating',\n",
    "'Chef Experience Years','Weekend Reservations','Weekday Reservations','Location']\n",
    "\n",
    "# Selecting final columns\n",
    "DataForML=resData[SelectedColumns] \n",
    "DataForML.head()   "
   ]
  },
  {
   "cell_type": "code",
   "execution_count": 51,
   "metadata": {},
   "outputs": [
    {
     "data": {
      "text/plain": [
       "'C:\\\\Users\\\\Siddhali\\\\Python\\\\Python IVY Feb-2024\\\\Python Project'"
      ]
     },
     "execution_count": 51,
     "metadata": {},
     "output_type": "execute_result"
    }
   ],
   "source": [
    "import os\n",
    "os.getcwd() "
   ]
  },
  {
   "cell_type": "code",
   "execution_count": 88,
   "metadata": {},
   "outputs": [],
   "source": [
    "# Saving this final data for reference during deployment\n",
    "DataForML.to_pickle('DataForML.pkl')  "
   ]
  },
  {
   "cell_type": "code",
   "execution_count": 89,
   "metadata": {},
   "outputs": [
    {
     "data": {
      "text/html": [
       "<div>\n",
       "<style scoped>\n",
       "    .dataframe tbody tr th:only-of-type {\n",
       "        vertical-align: middle;\n",
       "    }\n",
       "\n",
       "    .dataframe tbody tr th {\n",
       "        vertical-align: top;\n",
       "    }\n",
       "\n",
       "    .dataframe thead th {\n",
       "        text-align: right;\n",
       "    }\n",
       "</style>\n",
       "<table border=\"1\" class=\"dataframe\">\n",
       "  <thead>\n",
       "    <tr style=\"text-align: right;\">\n",
       "      <th></th>\n",
       "      <th>Average Meal Price</th>\n",
       "      <th>Marketing Budget</th>\n",
       "      <th>Social Media Followers</th>\n",
       "      <th>Cuisine</th>\n",
       "      <th>Rating</th>\n",
       "      <th>Chef Experience Years</th>\n",
       "      <th>Weekend Reservations</th>\n",
       "      <th>Weekday Reservations</th>\n",
       "      <th>Location</th>\n",
       "    </tr>\n",
       "  </thead>\n",
       "  <tbody>\n",
       "    <tr>\n",
       "      <th>0</th>\n",
       "      <td>73.98</td>\n",
       "      <td>2224</td>\n",
       "      <td>23406</td>\n",
       "      <td>Japanese</td>\n",
       "      <td>4.0</td>\n",
       "      <td>13</td>\n",
       "      <td>13</td>\n",
       "      <td>4</td>\n",
       "      <td>Rural</td>\n",
       "    </tr>\n",
       "    <tr>\n",
       "      <th>1</th>\n",
       "      <td>28.11</td>\n",
       "      <td>4416</td>\n",
       "      <td>42741</td>\n",
       "      <td>Mexican</td>\n",
       "      <td>3.2</td>\n",
       "      <td>8</td>\n",
       "      <td>48</td>\n",
       "      <td>6</td>\n",
       "      <td>Downtown</td>\n",
       "    </tr>\n",
       "    <tr>\n",
       "      <th>2</th>\n",
       "      <td>48.29</td>\n",
       "      <td>2796</td>\n",
       "      <td>37285</td>\n",
       "      <td>Italian</td>\n",
       "      <td>4.7</td>\n",
       "      <td>18</td>\n",
       "      <td>27</td>\n",
       "      <td>14</td>\n",
       "      <td>Rural</td>\n",
       "    </tr>\n",
       "    <tr>\n",
       "      <th>3</th>\n",
       "      <td>51.55</td>\n",
       "      <td>1167</td>\n",
       "      <td>15214</td>\n",
       "      <td>Italian</td>\n",
       "      <td>4.4</td>\n",
       "      <td>13</td>\n",
       "      <td>9</td>\n",
       "      <td>17</td>\n",
       "      <td>Rural</td>\n",
       "    </tr>\n",
       "    <tr>\n",
       "      <th>4</th>\n",
       "      <td>75.98</td>\n",
       "      <td>3639</td>\n",
       "      <td>40171</td>\n",
       "      <td>Japanese</td>\n",
       "      <td>4.9</td>\n",
       "      <td>9</td>\n",
       "      <td>37</td>\n",
       "      <td>26</td>\n",
       "      <td>Downtown</td>\n",
       "    </tr>\n",
       "  </tbody>\n",
       "</table>\n",
       "</div>"
      ],
      "text/plain": [
       "   Average Meal Price  Marketing Budget  Social Media Followers   Cuisine  \\\n",
       "0               73.98              2224                   23406  Japanese   \n",
       "1               28.11              4416                   42741   Mexican   \n",
       "2               48.29              2796                   37285   Italian   \n",
       "3               51.55              1167                   15214   Italian   \n",
       "4               75.98              3639                   40171  Japanese   \n",
       "\n",
       "   Rating  Chef Experience Years  Weekend Reservations  Weekday Reservations  \\\n",
       "0     4.0                     13                    13                     4   \n",
       "1     3.2                      8                    48                     6   \n",
       "2     4.7                     18                    27                    14   \n",
       "3     4.4                     13                     9                    17   \n",
       "4     4.9                      9                    37                    26   \n",
       "\n",
       "   Location  \n",
       "0     Rural  \n",
       "1  Downtown  \n",
       "2     Rural  \n",
       "3     Rural  \n",
       "4  Downtown  "
      ]
     },
     "execution_count": 89,
     "metadata": {},
     "output_type": "execute_result"
    }
   ],
   "source": [
    "# Reading a pickle file\n",
    "import pandas as pd\n",
    "DataForML=pd.read_pickle('DataForML.pkl')\n",
    "DataForML.head()  "
   ]
  },
  {
   "cell_type": "code",
   "execution_count": 90,
   "metadata": {},
   "outputs": [],
   "source": [
    "DataForML=pd.get_dummies(DataForML)   "
   ]
  },
  {
   "cell_type": "code",
   "execution_count": 91,
   "metadata": {
    "scrolled": true
   },
   "outputs": [
    {
     "data": {
      "text/html": [
       "<div>\n",
       "<style scoped>\n",
       "    .dataframe tbody tr th:only-of-type {\n",
       "        vertical-align: middle;\n",
       "    }\n",
       "\n",
       "    .dataframe tbody tr th {\n",
       "        vertical-align: top;\n",
       "    }\n",
       "\n",
       "    .dataframe thead th {\n",
       "        text-align: right;\n",
       "    }\n",
       "</style>\n",
       "<table border=\"1\" class=\"dataframe\">\n",
       "  <thead>\n",
       "    <tr style=\"text-align: right;\">\n",
       "      <th></th>\n",
       "      <th>Average Meal Price</th>\n",
       "      <th>Marketing Budget</th>\n",
       "      <th>Social Media Followers</th>\n",
       "      <th>Rating</th>\n",
       "      <th>Chef Experience Years</th>\n",
       "      <th>Weekend Reservations</th>\n",
       "      <th>Weekday Reservations</th>\n",
       "      <th>Cuisine_American</th>\n",
       "      <th>Cuisine_French</th>\n",
       "      <th>Cuisine_Indian</th>\n",
       "      <th>Cuisine_Italian</th>\n",
       "      <th>Cuisine_Japanese</th>\n",
       "      <th>Cuisine_Mexican</th>\n",
       "      <th>Location_Downtown</th>\n",
       "      <th>Location_Rural</th>\n",
       "      <th>Location_Suburban</th>\n",
       "    </tr>\n",
       "  </thead>\n",
       "  <tbody>\n",
       "    <tr>\n",
       "      <th>0</th>\n",
       "      <td>73.98</td>\n",
       "      <td>2224</td>\n",
       "      <td>23406</td>\n",
       "      <td>4.0</td>\n",
       "      <td>13</td>\n",
       "      <td>13</td>\n",
       "      <td>4</td>\n",
       "      <td>False</td>\n",
       "      <td>False</td>\n",
       "      <td>False</td>\n",
       "      <td>False</td>\n",
       "      <td>True</td>\n",
       "      <td>False</td>\n",
       "      <td>False</td>\n",
       "      <td>True</td>\n",
       "      <td>False</td>\n",
       "    </tr>\n",
       "    <tr>\n",
       "      <th>1</th>\n",
       "      <td>28.11</td>\n",
       "      <td>4416</td>\n",
       "      <td>42741</td>\n",
       "      <td>3.2</td>\n",
       "      <td>8</td>\n",
       "      <td>48</td>\n",
       "      <td>6</td>\n",
       "      <td>False</td>\n",
       "      <td>False</td>\n",
       "      <td>False</td>\n",
       "      <td>False</td>\n",
       "      <td>False</td>\n",
       "      <td>True</td>\n",
       "      <td>True</td>\n",
       "      <td>False</td>\n",
       "      <td>False</td>\n",
       "    </tr>\n",
       "    <tr>\n",
       "      <th>2</th>\n",
       "      <td>48.29</td>\n",
       "      <td>2796</td>\n",
       "      <td>37285</td>\n",
       "      <td>4.7</td>\n",
       "      <td>18</td>\n",
       "      <td>27</td>\n",
       "      <td>14</td>\n",
       "      <td>False</td>\n",
       "      <td>False</td>\n",
       "      <td>False</td>\n",
       "      <td>True</td>\n",
       "      <td>False</td>\n",
       "      <td>False</td>\n",
       "      <td>False</td>\n",
       "      <td>True</td>\n",
       "      <td>False</td>\n",
       "    </tr>\n",
       "    <tr>\n",
       "      <th>3</th>\n",
       "      <td>51.55</td>\n",
       "      <td>1167</td>\n",
       "      <td>15214</td>\n",
       "      <td>4.4</td>\n",
       "      <td>13</td>\n",
       "      <td>9</td>\n",
       "      <td>17</td>\n",
       "      <td>False</td>\n",
       "      <td>False</td>\n",
       "      <td>False</td>\n",
       "      <td>True</td>\n",
       "      <td>False</td>\n",
       "      <td>False</td>\n",
       "      <td>False</td>\n",
       "      <td>True</td>\n",
       "      <td>False</td>\n",
       "    </tr>\n",
       "    <tr>\n",
       "      <th>4</th>\n",
       "      <td>75.98</td>\n",
       "      <td>3639</td>\n",
       "      <td>40171</td>\n",
       "      <td>4.9</td>\n",
       "      <td>9</td>\n",
       "      <td>37</td>\n",
       "      <td>26</td>\n",
       "      <td>False</td>\n",
       "      <td>False</td>\n",
       "      <td>False</td>\n",
       "      <td>False</td>\n",
       "      <td>True</td>\n",
       "      <td>False</td>\n",
       "      <td>True</td>\n",
       "      <td>False</td>\n",
       "      <td>False</td>\n",
       "    </tr>\n",
       "  </tbody>\n",
       "</table>\n",
       "</div>"
      ],
      "text/plain": [
       "   Average Meal Price  Marketing Budget  Social Media Followers  Rating  \\\n",
       "0               73.98              2224                   23406     4.0   \n",
       "1               28.11              4416                   42741     3.2   \n",
       "2               48.29              2796                   37285     4.7   \n",
       "3               51.55              1167                   15214     4.4   \n",
       "4               75.98              3639                   40171     4.9   \n",
       "\n",
       "   Chef Experience Years  Weekend Reservations  Weekday Reservations  \\\n",
       "0                     13                    13                     4   \n",
       "1                      8                    48                     6   \n",
       "2                     18                    27                    14   \n",
       "3                     13                     9                    17   \n",
       "4                      9                    37                    26   \n",
       "\n",
       "   Cuisine_American  Cuisine_French  Cuisine_Indian  Cuisine_Italian  \\\n",
       "0             False           False           False            False   \n",
       "1             False           False           False            False   \n",
       "2             False           False           False             True   \n",
       "3             False           False           False             True   \n",
       "4             False           False           False            False   \n",
       "\n",
       "   Cuisine_Japanese  Cuisine_Mexican  Location_Downtown  Location_Rural  \\\n",
       "0              True            False              False            True   \n",
       "1             False             True               True           False   \n",
       "2             False            False              False            True   \n",
       "3             False            False              False            True   \n",
       "4              True            False               True           False   \n",
       "\n",
       "   Location_Suburban  \n",
       "0              False  \n",
       "1              False  \n",
       "2              False  \n",
       "3              False  \n",
       "4              False  "
      ]
     },
     "execution_count": 91,
     "metadata": {},
     "output_type": "execute_result"
    }
   ],
   "source": [
    "DataForML.head()"
   ]
  },
  {
   "cell_type": "markdown",
   "metadata": {},
   "source": [
    "## Data Pre-processing for Machine Learning\n",
    "List of steps performed on predictor variables before data can be used for machine learning\n",
    "1. Converting each Ordinal Categorical columns to numeric\n",
    "2. Converting Binary nominal Categorical columns to numeric using 1/0 mapping\n",
    "3. Converting all other nominal categorical columns to numeric using pd.get_dummies()\n",
    "4. Data Transformation (Optional): Standardization/Normalization/log/sqrt. Important if you are using distance based algorithms like KNN, or Neural Networks"
   ]
  },
  {
   "cell_type": "markdown",
   "metadata": {},
   "source": [
    "In this data there is no Ordinal categorical variable which is in string format."
   ]
  },
  {
   "cell_type": "markdown",
   "metadata": {},
   "source": [
    "## Converting the binary nominal variable to numeric using 1/0 mapping"
   ]
  },
  {
   "cell_type": "markdown",
   "metadata": {},
   "source": [
    "There is no binary nominal variable in string format to be converted"
   ]
  },
  {
   "cell_type": "markdown",
   "metadata": {},
   "source": [
    "## Converting the nominal variable to numeric using get_dummies()"
   ]
  },
  {
   "cell_type": "code",
   "execution_count": 92,
   "metadata": {
    "scrolled": true
   },
   "outputs": [
    {
     "data": {
      "text/html": [
       "<div>\n",
       "<style scoped>\n",
       "    .dataframe tbody tr th:only-of-type {\n",
       "        vertical-align: middle;\n",
       "    }\n",
       "\n",
       "    .dataframe tbody tr th {\n",
       "        vertical-align: top;\n",
       "    }\n",
       "\n",
       "    .dataframe thead th {\n",
       "        text-align: right;\n",
       "    }\n",
       "</style>\n",
       "<table border=\"1\" class=\"dataframe\">\n",
       "  <thead>\n",
       "    <tr style=\"text-align: right;\">\n",
       "      <th></th>\n",
       "      <th>Average Meal Price</th>\n",
       "      <th>Marketing Budget</th>\n",
       "      <th>Social Media Followers</th>\n",
       "      <th>Rating</th>\n",
       "      <th>Chef Experience Years</th>\n",
       "      <th>Weekend Reservations</th>\n",
       "      <th>Weekday Reservations</th>\n",
       "      <th>Cuisine_American</th>\n",
       "      <th>Cuisine_French</th>\n",
       "      <th>Cuisine_Indian</th>\n",
       "      <th>Cuisine_Italian</th>\n",
       "      <th>Cuisine_Japanese</th>\n",
       "      <th>Cuisine_Mexican</th>\n",
       "      <th>Location_Downtown</th>\n",
       "      <th>Location_Rural</th>\n",
       "      <th>Location_Suburban</th>\n",
       "      <th>Revenue</th>\n",
       "    </tr>\n",
       "  </thead>\n",
       "  <tbody>\n",
       "    <tr>\n",
       "      <th>0</th>\n",
       "      <td>73.98</td>\n",
       "      <td>2224</td>\n",
       "      <td>23406</td>\n",
       "      <td>4.0</td>\n",
       "      <td>13</td>\n",
       "      <td>13</td>\n",
       "      <td>4</td>\n",
       "      <td>False</td>\n",
       "      <td>False</td>\n",
       "      <td>False</td>\n",
       "      <td>False</td>\n",
       "      <td>True</td>\n",
       "      <td>False</td>\n",
       "      <td>False</td>\n",
       "      <td>True</td>\n",
       "      <td>False</td>\n",
       "      <td>638945.52</td>\n",
       "    </tr>\n",
       "    <tr>\n",
       "      <th>1</th>\n",
       "      <td>28.11</td>\n",
       "      <td>4416</td>\n",
       "      <td>42741</td>\n",
       "      <td>3.2</td>\n",
       "      <td>8</td>\n",
       "      <td>48</td>\n",
       "      <td>6</td>\n",
       "      <td>False</td>\n",
       "      <td>False</td>\n",
       "      <td>False</td>\n",
       "      <td>False</td>\n",
       "      <td>False</td>\n",
       "      <td>True</td>\n",
       "      <td>True</td>\n",
       "      <td>False</td>\n",
       "      <td>False</td>\n",
       "      <td>490207.83</td>\n",
       "    </tr>\n",
       "    <tr>\n",
       "      <th>2</th>\n",
       "      <td>48.29</td>\n",
       "      <td>2796</td>\n",
       "      <td>37285</td>\n",
       "      <td>4.7</td>\n",
       "      <td>18</td>\n",
       "      <td>27</td>\n",
       "      <td>14</td>\n",
       "      <td>False</td>\n",
       "      <td>False</td>\n",
       "      <td>False</td>\n",
       "      <td>True</td>\n",
       "      <td>False</td>\n",
       "      <td>False</td>\n",
       "      <td>False</td>\n",
       "      <td>True</td>\n",
       "      <td>False</td>\n",
       "      <td>541368.62</td>\n",
       "    </tr>\n",
       "    <tr>\n",
       "      <th>3</th>\n",
       "      <td>51.55</td>\n",
       "      <td>1167</td>\n",
       "      <td>15214</td>\n",
       "      <td>4.4</td>\n",
       "      <td>13</td>\n",
       "      <td>9</td>\n",
       "      <td>17</td>\n",
       "      <td>False</td>\n",
       "      <td>False</td>\n",
       "      <td>False</td>\n",
       "      <td>True</td>\n",
       "      <td>False</td>\n",
       "      <td>False</td>\n",
       "      <td>False</td>\n",
       "      <td>True</td>\n",
       "      <td>False</td>\n",
       "      <td>404556.80</td>\n",
       "    </tr>\n",
       "    <tr>\n",
       "      <th>4</th>\n",
       "      <td>75.98</td>\n",
       "      <td>3639</td>\n",
       "      <td>40171</td>\n",
       "      <td>4.9</td>\n",
       "      <td>9</td>\n",
       "      <td>37</td>\n",
       "      <td>26</td>\n",
       "      <td>False</td>\n",
       "      <td>False</td>\n",
       "      <td>False</td>\n",
       "      <td>False</td>\n",
       "      <td>True</td>\n",
       "      <td>False</td>\n",
       "      <td>True</td>\n",
       "      <td>False</td>\n",
       "      <td>False</td>\n",
       "      <td>1491046.35</td>\n",
       "    </tr>\n",
       "  </tbody>\n",
       "</table>\n",
       "</div>"
      ],
      "text/plain": [
       "   Average Meal Price  Marketing Budget  Social Media Followers  Rating  \\\n",
       "0               73.98              2224                   23406     4.0   \n",
       "1               28.11              4416                   42741     3.2   \n",
       "2               48.29              2796                   37285     4.7   \n",
       "3               51.55              1167                   15214     4.4   \n",
       "4               75.98              3639                   40171     4.9   \n",
       "\n",
       "   Chef Experience Years  Weekend Reservations  Weekday Reservations  \\\n",
       "0                     13                    13                     4   \n",
       "1                      8                    48                     6   \n",
       "2                     18                    27                    14   \n",
       "3                     13                     9                    17   \n",
       "4                      9                    37                    26   \n",
       "\n",
       "   Cuisine_American  Cuisine_French  Cuisine_Indian  Cuisine_Italian  \\\n",
       "0             False           False           False            False   \n",
       "1             False           False           False            False   \n",
       "2             False           False           False             True   \n",
       "3             False           False           False             True   \n",
       "4             False           False           False            False   \n",
       "\n",
       "   Cuisine_Japanese  Cuisine_Mexican  Location_Downtown  Location_Rural  \\\n",
       "0              True            False              False            True   \n",
       "1             False             True               True           False   \n",
       "2             False            False              False            True   \n",
       "3             False            False              False            True   \n",
       "4              True            False               True           False   \n",
       "\n",
       "   Location_Suburban     Revenue  \n",
       "0              False   638945.52  \n",
       "1              False   490207.83  \n",
       "2              False   541368.62  \n",
       "3              False   404556.80  \n",
       "4              False  1491046.35  "
      ]
     },
     "execution_count": 92,
     "metadata": {},
     "output_type": "execute_result"
    }
   ],
   "source": [
    "# Treating all the nominal variables at once using dummy variables\n",
    "DataForML_Numeric=pd.get_dummies(DataForML)\n",
    "\n",
    "# Adding Target Variable to the data\n",
    "DataForML_Numeric['Revenue']=resData['Revenue']\n",
    "\n",
    "# Printing sample rows\n",
    "DataForML_Numeric.head() "
   ]
  },
  {
   "cell_type": "code",
   "execution_count": 75,
   "metadata": {},
   "outputs": [
    {
     "name": "stderr",
     "output_type": "stream",
     "text": [
      "C:\\Users\\Siddhali\\AppData\\Local\\Temp\\ipykernel_4040\\2434032447.py:1: FutureWarning: DataFrame.applymap has been deprecated. Use DataFrame.map instead.\n",
      "  DataForML_Numeric = DataForML_Numeric.applymap(lambda x: int(x) if isinstance(x, bool) else x)\n"
     ]
    }
   ],
   "source": [
    "DataForML_Numeric = DataForML_Numeric.applymap(lambda x: int(x) if isinstance(x, bool) else x)     "
   ]
  },
  {
   "cell_type": "markdown",
   "metadata": {},
   "source": [
    "# Machine Learning: Splitting the data into Training and Testing sample\n",
    "We dont use the full data for creating the model. Some data is randomly selected and kept aside for checking how good the model is. This is known as Testing Data and the remaining data is called Training data on which the model is built. Typically 70% of data is used as Training data and the rest 30% is used as Tesing data."
   ]
  },
  {
   "cell_type": "code",
   "execution_count": 93,
   "metadata": {},
   "outputs": [
    {
     "data": {
      "text/plain": [
       "Index(['Average Meal Price', 'Marketing Budget', 'Social Media Followers',\n",
       "       'Rating', 'Chef Experience Years', 'Weekend Reservations',\n",
       "       'Weekday Reservations', 'Cuisine_American', 'Cuisine_French',\n",
       "       'Cuisine_Indian', 'Cuisine_Italian', 'Cuisine_Japanese',\n",
       "       'Cuisine_Mexican', 'Location_Downtown', 'Location_Rural',\n",
       "       'Location_Suburban', 'Revenue'],\n",
       "      dtype='object')"
      ]
     },
     "execution_count": 93,
     "metadata": {},
     "output_type": "execute_result"
    }
   ],
   "source": [
    "# Printing all the column names for our reference \n",
    "DataForML_Numeric.columns "
   ]
  },
  {
   "cell_type": "code",
   "execution_count": 58,
   "metadata": {},
   "outputs": [
    {
     "data": {
      "text/plain": [
       "Location                     3\n",
       "Cuisine                      6\n",
       "Rating                      21\n",
       "Seating Capacity            61\n",
       "Average Meal Price        3966\n",
       "Marketing Budget          4396\n",
       "Social Media Followers    7799\n",
       "Chef Experience Years       19\n",
       "Number of Reviews          949\n",
       "Avg Review Length         8368\n",
       "Ambience Score              91\n",
       "Service Quality Score       91\n",
       "Parking Availability         2\n",
       "Weekend Reservations        89\n",
       "Weekday Reservations        89\n",
       "Revenue                   8368\n",
       "dtype: int64"
      ]
     },
     "execution_count": 58,
     "metadata": {},
     "output_type": "execute_result"
    }
   ],
   "source": [
    "resData.nunique() "
   ]
  },
  {
   "cell_type": "code",
   "execution_count": 103,
   "metadata": {
    "scrolled": true
   },
   "outputs": [
    {
     "name": "stdout",
     "output_type": "stream",
     "text": [
      "(5857, 16)\n",
      "(5857,)\n",
      "(2511, 16)\n",
      "(2511,)\n"
     ]
    }
   ],
   "source": [
    "# Separate Target Variable and Predictor Variables\n",
    "\n",
    "Predictors=['Average Meal Price', 'Marketing Budget', 'Social Media Followers',\n",
    "       'Rating', 'Chef Experience Years', 'Weekend Reservations',\n",
    "       'Weekday Reservations', 'Cuisine_American', 'Cuisine_French',\n",
    "       'Cuisine_Indian', 'Cuisine_Italian', 'Cuisine_Japanese',\n",
    "       'Cuisine_Mexican', 'Location_Downtown', 'Location_Rural',\n",
    "       'Location_Suburban']\n",
    "TargetVariable='Revenue' \n",
    "\n",
    "# Simple Linear Regression (only one predictor)\n",
    "#Predictors=['Age']|\n",
    "\n",
    "X=DataForML_Numeric[Predictors].values\n",
    "y=DataForML_Numeric[TargetVariable].values\n",
    "\n",
    "# Polynomial Regression\n",
    "# Uncomment below lines if you want to perform polynomial regression\n",
    "from sklearn.preprocessing import PolynomialFeatures\n",
    "#poly = PolynomialFeatures(degree = 2, include_bias=False) \n",
    "#X = poly.fit_transform(X)\n",
    "#Predictors=poly.get_feature_names_out() \n",
    "\n",
    "# Split the data into training and testing set\n",
    "from sklearn.model_selection import train_test_split\n",
    "\n",
    "X_train, X_test, y_train, y_test = train_test_split(X, y, test_size=0.30, random_state=41)\n",
    "\n",
    "# Quick check on the shapes of train and test\n",
    "print(X_train.shape) \n",
    "print(y_train.shape) \n",
    "print(X_test.shape)\n",
    "print(y_test.shape) "
   ]
  },
  {
   "cell_type": "code",
   "execution_count": null,
   "metadata": {},
   "outputs": [],
   "source": []
  },
  {
   "cell_type": "code",
   "execution_count": 95,
   "metadata": {},
   "outputs": [
    {
     "data": {
      "text/plain": [
       "array([ 758585.45, 1042217.38,  643475.87, 1333932.81,  279860.31])"
      ]
     },
     "execution_count": 95,
     "metadata": {},
     "output_type": "execute_result"
    }
   ],
   "source": [
    "y_train[0:5]"
   ]
  },
  {
   "cell_type": "code",
   "execution_count": 96,
   "metadata": {},
   "outputs": [
    {
     "data": {
      "text/plain": [
       "array([[47.94, 2170, 30337, 4.1, 9, 63, 47, False, False, False, True,\n",
       "        False, False, False, False, True],\n",
       "       [55.34, 6804, 71994, 3.9, 13, 51, 24, False, True, False, False,\n",
       "        False, False, True, False, False],\n",
       "       [34.56, 2004, 28447, 4.7, 8, 45, 14, False, False, False, False,\n",
       "        False, True, True, False, False],\n",
       "       [65.87, 7399, 76682, 3.8, 10, 20, 53, False, True, False, False,\n",
       "        False, False, True, False, False],\n",
       "       [35.62, 3388, 37855, 4.8, 14, 29, 1, True, False, False, False,\n",
       "        False, False, False, True, False],\n",
       "       [31.81, 8324, 91634, 5.0, 14, 20, 22, False, False, True, False,\n",
       "        False, False, True, False, False],\n",
       "       [38.73, 2885, 29227, 4.2, 18, 60, 32, True, False, False, False,\n",
       "        False, False, False, False, True],\n",
       "       [66.64, 6289, 65456, 3.8, 5, 13, 66, False, False, False, False,\n",
       "        True, False, True, False, False],\n",
       "       [42.71, 8832, 88718, 4.8, 10, 32, 42, True, False, False, False,\n",
       "        False, False, True, False, False],\n",
       "       [59.98, 734, 9726, 3.6, 12, 8, 27, False, True, False, False,\n",
       "        False, False, False, False, True]], dtype=object)"
      ]
     },
     "execution_count": 96,
     "metadata": {},
     "output_type": "execute_result"
    }
   ],
   "source": [
    "# Suppressing Scientific Notation in printing numpy arrays\n",
    "np.set_printoptions(suppress=True) \n",
    "X_train[0:10]  "
   ]
  },
  {
   "cell_type": "code",
   "execution_count": 97,
   "metadata": {},
   "outputs": [
    {
     "data": {
      "text/plain": [
       "array([ 758585.45, 1042217.38,  643475.87, 1333932.81,  279860.31,\n",
       "        588804.53,  558607.95, 1302106.78,  700754.23,  757369.32])"
      ]
     },
     "execution_count": 97,
     "metadata": {},
     "output_type": "execute_result"
    }
   ],
   "source": [
    "y_train[0:10]   "
   ]
  },
  {
   "cell_type": "markdown",
   "metadata": {},
   "source": [
    "# Multiple Linear Regression"
   ]
  },
  {
   "cell_type": "code",
   "execution_count": null,
   "metadata": {},
   "outputs": [],
   "source": [
    "CarPricesData.nunique()"
   ]
  },
  {
   "cell_type": "code",
   "execution_count": 104,
   "metadata": {
    "scrolled": true
   },
   "outputs": [
    {
     "name": "stdout",
     "output_type": "stream",
     "text": [
      "LinearRegression()\n",
      "R2 Value: 0.9031191342276012\n",
      "\n",
      "##### Model Validation and Accuracy Calculations ##########\n",
      "  Average Meal Price Marketing Budget Social Media Followers Rating  \\\n",
      "0              44.51             1727                  18306    3.2   \n",
      "1              31.11             3156                  34768    4.6   \n",
      "2              67.06             3280                  42282    4.9   \n",
      "3              41.35             3289                  38818    4.6   \n",
      "4              61.57             5645                  63269    4.6   \n",
      "\n",
      "  Chef Experience Years Weekend Reservations Weekday Reservations  \\\n",
      "0                    14                   63                   52   \n",
      "1                     9                   54                   52   \n",
      "2                     8                    2                   33   \n",
      "3                     3                   46                   27   \n",
      "4                     2                   64                   10   \n",
      "\n",
      "  Cuisine_American Cuisine_French Cuisine_Indian Cuisine_Italian  \\\n",
      "0             True          False          False           False   \n",
      "1            False          False          False           False   \n",
      "2            False          False          False           False   \n",
      "3             True          False          False           False   \n",
      "4            False           True          False           False   \n",
      "\n",
      "  Cuisine_Japanese Cuisine_Mexican Location_Downtown Location_Rural  \\\n",
      "0            False           False             False          False   \n",
      "1            False            True              True          False   \n",
      "2             True           False             False           True   \n",
      "3            False           False             False          False   \n",
      "4            False           False              True          False   \n",
      "\n",
      "  Location_Suburban     Revenue  PredictedRevenue  \n",
      "0              True   704643.06          642369.0  \n",
      "1             False   543490.90          658684.0  \n",
      "2             False   697555.64          685819.0  \n",
      "3              True   568947.60          572942.0  \n",
      "4             False  1161144.85         1044902.0  \n",
      "      Revenue  PredictedRevenue        APE\n",
      "0   704643.06          642369.0   8.837674\n",
      "1   543490.90          658684.0  21.195037\n",
      "2   697555.64          685819.0   1.682538\n",
      "3   568947.60          572942.0   0.702068\n",
      "4  1161144.85         1044902.0  10.011055\n",
      "Mean Accuracy on test data: 88.48431781612209\n",
      "Median Accuracy on test data: 90.72176500231382\n",
      "\n",
      "Accuracy values for 10-fold Cross Validation:\n",
      " [88.51831779 88.41254642 88.21414141 88.56111647]\n",
      "\n",
      "Final Average Accuracy of the model: 88.43\n"
     ]
    }
   ],
   "source": [
    "# Multiple Linear Regression\n",
    "from sklearn.linear_model import LinearRegression\n",
    "RegModel = LinearRegression()\n",
    "\n",
    "# Printing all the parameters of Linear regression\n",
    "print(RegModel)\n",
    "\n",
    "# Creating the model on Training Data\n",
    "LREG=RegModel.fit(X_train,y_train)\n",
    "\n",
    "# Taking the standardized values to original scale\n",
    "\n",
    "from sklearn import metrics\n",
    "# Measuring Goodness of fit in Training data\n",
    "print('R2 Value:',metrics.r2_score(y_train, LREG.predict(X_train)))\n",
    "\n",
    "###########################################################################\n",
    "print('\\n##### Model Validation and Accuracy Calculations ##########')\n",
    "\n",
    "# Printing some sample values of prediction\n",
    "prediction=LREG.predict(X_test)\n",
    "TestingDataResults=pd.DataFrame(data=X_test, columns=Predictors)\n",
    "TestingDataResults[TargetVariable]=y_test\n",
    "TestingDataResults[('Predicted'+TargetVariable)]=np.round(prediction)\n",
    "print(TestingDataResults.head())\n",
    "\n",
    "# Calculating the error for each row\n",
    "TestingDataResults['APE']=100 * ((abs(\n",
    "  TestingDataResults['Revenue']-TestingDataResults['PredictedRevenue']))/TestingDataResults['Revenue'])\n",
    "\n",
    "# Printing sample prediction values\n",
    "print(TestingDataResults[[TargetVariable,'Predicted'+TargetVariable, 'APE']].head())\n",
    "\n",
    "MAPE=np.mean(TestingDataResults['APE'])\n",
    "MedianMAPE=np.median(TestingDataResults['APE'])\n",
    "\n",
    "Accuracy =100 - MAPE\n",
    "MedianAccuracy=100- MedianMAPE\n",
    "print('Mean Accuracy on test data:', Accuracy) # Can be negative sometimes due to outlier\n",
    "print('Median Accuracy on test data:', MedianAccuracy)\n",
    "\n",
    "# Defining a custom function to calculate accuracy\n",
    "# Make sure there are no zeros in the Target variable if you are using MAPE\n",
    "def Accuracy_Score(orig,pred):\n",
    "    MAPE = np.mean(100 * (np.abs(orig-pred)/orig))\n",
    "    #print('#'*70,'Accuracy:', 100-MAPE)\n",
    "    return(100-MAPE)\n",
    "\n",
    "# Custom Scoring MAPE calculation\n",
    "from sklearn.metrics import make_scorer\n",
    "custom_Scoring=make_scorer(Accuracy_Score, greater_is_better=True)\n",
    "\n",
    "# Importing cross validation function from sklearn\n",
    "from sklearn.model_selection import cross_val_score\n",
    "\n",
    "# Running 10-Fold Cross validation on a given algorithm\n",
    "# Passing full data X and y because the K-fold will split the data and automatically choose train/test\n",
    "Accuracy_Values=cross_val_score(RegModel, X , y, cv=4, scoring=custom_Scoring)\n",
    "print('\\nAccuracy values for 10-fold Cross Validation:\\n',Accuracy_Values)\n",
    "print('\\nFinal Average Accuracy of the model:', round(Accuracy_Values.mean(),2)) "
   ]
  },
  {
   "cell_type": "code",
   "execution_count": null,
   "metadata": {},
   "outputs": [],
   "source": [
    "100* (abs(7500 - 8752.0)/7500)"
   ]
  },
  {
   "cell_type": "code",
   "execution_count": null,
   "metadata": {},
   "outputs": [],
   "source": []
  },
  {
   "cell_type": "code",
   "execution_count": null,
   "metadata": {},
   "outputs": [],
   "source": [
    "import sklearn\n",
    "sklearn.metrics.SCORERS.keys() "
   ]
  },
  {
   "cell_type": "code",
   "execution_count": null,
   "metadata": {},
   "outputs": [],
   "source": [
    "TestingDataResults['RevenueAVG']=TestingDataResults['Revenue'].mean()\n",
    "TestingDataResults.head() \n"
   ]
  },
  {
   "cell_type": "code",
   "execution_count": null,
   "metadata": {
    "scrolled": true
   },
   "outputs": [],
   "source": [
    "TestingDataResults.head()"
   ]
  },
  {
   "cell_type": "code",
   "execution_count": null,
   "metadata": {},
   "outputs": [],
   "source": [
    "resData.head()"
   ]
  },
  {
   "cell_type": "code",
   "execution_count": 105,
   "metadata": {
    "scrolled": true
   },
   "outputs": [
    {
     "ename": "KeyError",
     "evalue": "'RevenueAVG'",
     "output_type": "error",
     "traceback": [
      "\u001b[1;31m---------------------------------------------------------------------------\u001b[0m",
      "\u001b[1;31mKeyError\u001b[0m                                  Traceback (most recent call last)",
      "File \u001b[1;32m~\\anaconda3\\Lib\\site-packages\\pandas\\core\\indexes\\base.py:3791\u001b[0m, in \u001b[0;36mIndex.get_loc\u001b[1;34m(self, key)\u001b[0m\n\u001b[0;32m   3790\u001b[0m \u001b[38;5;28;01mtry\u001b[39;00m:\n\u001b[1;32m-> 3791\u001b[0m     \u001b[38;5;28;01mreturn\u001b[39;00m \u001b[38;5;28mself\u001b[39m\u001b[38;5;241m.\u001b[39m_engine\u001b[38;5;241m.\u001b[39mget_loc(casted_key)\n\u001b[0;32m   3792\u001b[0m \u001b[38;5;28;01mexcept\u001b[39;00m \u001b[38;5;167;01mKeyError\u001b[39;00m \u001b[38;5;28;01mas\u001b[39;00m err:\n",
      "File \u001b[1;32mindex.pyx:152\u001b[0m, in \u001b[0;36mpandas._libs.index.IndexEngine.get_loc\u001b[1;34m()\u001b[0m\n",
      "File \u001b[1;32mindex.pyx:181\u001b[0m, in \u001b[0;36mpandas._libs.index.IndexEngine.get_loc\u001b[1;34m()\u001b[0m\n",
      "File \u001b[1;32mpandas\\_libs\\hashtable_class_helper.pxi:7080\u001b[0m, in \u001b[0;36mpandas._libs.hashtable.PyObjectHashTable.get_item\u001b[1;34m()\u001b[0m\n",
      "File \u001b[1;32mpandas\\_libs\\hashtable_class_helper.pxi:7088\u001b[0m, in \u001b[0;36mpandas._libs.hashtable.PyObjectHashTable.get_item\u001b[1;34m()\u001b[0m\n",
      "\u001b[1;31mKeyError\u001b[0m: 'RevenueAVG'",
      "\nThe above exception was the direct cause of the following exception:\n",
      "\u001b[1;31mKeyError\u001b[0m                                  Traceback (most recent call last)",
      "Cell \u001b[1;32mIn[105], line 6\u001b[0m\n\u001b[0;32m      4\u001b[0m plt\u001b[38;5;241m.\u001b[39mscatter(x\u001b[38;5;241m=\u001b[39mTestingDataResults[\u001b[38;5;124m'\u001b[39m\u001b[38;5;124mAverage Meal Price\u001b[39m\u001b[38;5;124m'\u001b[39m] , y\u001b[38;5;241m=\u001b[39mTestingDataResults[\u001b[38;5;124m'\u001b[39m\u001b[38;5;124mRevenue\u001b[39m\u001b[38;5;124m'\u001b[39m])  \n\u001b[0;32m      5\u001b[0m plt\u001b[38;5;241m.\u001b[39mscatter(TestingDataResults[\u001b[38;5;124m'\u001b[39m\u001b[38;5;124mAverage Meal Price\u001b[39m\u001b[38;5;124m'\u001b[39m],TestingDataResults[\u001b[38;5;124m'\u001b[39m\u001b[38;5;124mPredictedRevenue\u001b[39m\u001b[38;5;124m'\u001b[39m], color\u001b[38;5;241m=\u001b[39m\u001b[38;5;124m'\u001b[39m\u001b[38;5;124mred\u001b[39m\u001b[38;5;124m'\u001b[39m)\n\u001b[1;32m----> 6\u001b[0m plt\u001b[38;5;241m.\u001b[39mplot(TestingDataResults[\u001b[38;5;124m'\u001b[39m\u001b[38;5;124mAverage Meal Price\u001b[39m\u001b[38;5;124m'\u001b[39m] ,TestingDataResults[\u001b[38;5;124m'\u001b[39m\u001b[38;5;124mRevenueAVG\u001b[39m\u001b[38;5;124m'\u001b[39m], color\u001b[38;5;241m=\u001b[39m\u001b[38;5;124m'\u001b[39m\u001b[38;5;124mgreen\u001b[39m\u001b[38;5;124m'\u001b[39m)\n",
      "File \u001b[1;32m~\\anaconda3\\Lib\\site-packages\\pandas\\core\\frame.py:3893\u001b[0m, in \u001b[0;36mDataFrame.__getitem__\u001b[1;34m(self, key)\u001b[0m\n\u001b[0;32m   3891\u001b[0m \u001b[38;5;28;01mif\u001b[39;00m \u001b[38;5;28mself\u001b[39m\u001b[38;5;241m.\u001b[39mcolumns\u001b[38;5;241m.\u001b[39mnlevels \u001b[38;5;241m>\u001b[39m \u001b[38;5;241m1\u001b[39m:\n\u001b[0;32m   3892\u001b[0m     \u001b[38;5;28;01mreturn\u001b[39;00m \u001b[38;5;28mself\u001b[39m\u001b[38;5;241m.\u001b[39m_getitem_multilevel(key)\n\u001b[1;32m-> 3893\u001b[0m indexer \u001b[38;5;241m=\u001b[39m \u001b[38;5;28mself\u001b[39m\u001b[38;5;241m.\u001b[39mcolumns\u001b[38;5;241m.\u001b[39mget_loc(key)\n\u001b[0;32m   3894\u001b[0m \u001b[38;5;28;01mif\u001b[39;00m is_integer(indexer):\n\u001b[0;32m   3895\u001b[0m     indexer \u001b[38;5;241m=\u001b[39m [indexer]\n",
      "File \u001b[1;32m~\\anaconda3\\Lib\\site-packages\\pandas\\core\\indexes\\base.py:3798\u001b[0m, in \u001b[0;36mIndex.get_loc\u001b[1;34m(self, key)\u001b[0m\n\u001b[0;32m   3793\u001b[0m     \u001b[38;5;28;01mif\u001b[39;00m \u001b[38;5;28misinstance\u001b[39m(casted_key, \u001b[38;5;28mslice\u001b[39m) \u001b[38;5;129;01mor\u001b[39;00m (\n\u001b[0;32m   3794\u001b[0m         \u001b[38;5;28misinstance\u001b[39m(casted_key, abc\u001b[38;5;241m.\u001b[39mIterable)\n\u001b[0;32m   3795\u001b[0m         \u001b[38;5;129;01mand\u001b[39;00m \u001b[38;5;28many\u001b[39m(\u001b[38;5;28misinstance\u001b[39m(x, \u001b[38;5;28mslice\u001b[39m) \u001b[38;5;28;01mfor\u001b[39;00m x \u001b[38;5;129;01min\u001b[39;00m casted_key)\n\u001b[0;32m   3796\u001b[0m     ):\n\u001b[0;32m   3797\u001b[0m         \u001b[38;5;28;01mraise\u001b[39;00m InvalidIndexError(key)\n\u001b[1;32m-> 3798\u001b[0m     \u001b[38;5;28;01mraise\u001b[39;00m \u001b[38;5;167;01mKeyError\u001b[39;00m(key) \u001b[38;5;28;01mfrom\u001b[39;00m \u001b[38;5;21;01merr\u001b[39;00m\n\u001b[0;32m   3799\u001b[0m \u001b[38;5;28;01mexcept\u001b[39;00m \u001b[38;5;167;01mTypeError\u001b[39;00m:\n\u001b[0;32m   3800\u001b[0m     \u001b[38;5;66;03m# If we have a listlike key, _check_indexing_error will raise\u001b[39;00m\n\u001b[0;32m   3801\u001b[0m     \u001b[38;5;66;03m#  InvalidIndexError. Otherwise we fall through and re-raise\u001b[39;00m\n\u001b[0;32m   3802\u001b[0m     \u001b[38;5;66;03m#  the TypeError.\u001b[39;00m\n\u001b[0;32m   3803\u001b[0m     \u001b[38;5;28mself\u001b[39m\u001b[38;5;241m.\u001b[39m_check_indexing_error(key)\n",
      "\u001b[1;31mKeyError\u001b[0m: 'RevenueAVG'"
     ]
    },
    {
     "data": {
      "image/png": "[encoded data removed]",
      "text/plain": [
       "<Figure size 640x480 with 1 Axes>"
      ]
     },
     "metadata": {},
     "output_type": "display_data"
    }
   ],
   "source": [
    "# Visualizing the line of best fit\n",
    "%matplotlib inline \n",
    "import matplotlib.pyplot as plt \n",
    "plt.scatter(x=TestingDataResults['Average Meal Price'] , y=TestingDataResults['Revenue'])  \n",
    "plt.scatter(TestingDataResults['Average Meal Price'],TestingDataResults['PredictedRevenue'], color='red')\n",
    "plt.plot(TestingDataResults['Average Meal Price'] ,TestingDataResults['RevenueAVG'], color='green') "
   ]
  },
  {
   "cell_type": "code",
   "execution_count": null,
   "metadata": {},
   "outputs": [],
   "source": []
  },
  {
   "cell_type": "code",
   "execution_count": null,
   "metadata": {},
   "outputs": [],
   "source": [
    "SelectedColumns=['Age','KM','Weight','HP', 'MetColor', 'CC', 'Doors']"
   ]
  },
  {
   "cell_type": "code",
   "execution_count": 65,
   "metadata": {},
   "outputs": [
    {
     "data": {
      "text/plain": [
       "array([-0., -0.,  0.,  0., -0., -0., -0.,  1., -0.,  0., -0.,  0.,  0.,\n",
       "       -0.])"
      ]
     },
     "execution_count": 65,
     "metadata": {},
     "output_type": "execute_result"
    }
   ],
   "source": [
    "# Looking at the coefficients for each column\n",
    "LREG.coef_"
   ]
  },
  {
   "cell_type": "code",
   "execution_count": 66,
   "metadata": {},
   "outputs": [
    {
     "data": {
      "text/plain": [
       "1.3969838619232178e-09"
      ]
     },
     "execution_count": 66,
     "metadata": {},
     "output_type": "execute_result"
    }
   ],
   "source": [
    "# Looking at the intercept\n",
    "LREG.intercept_"
   ]
  },
  {
   "cell_type": "code",
   "execution_count": null,
   "metadata": {},
   "outputs": [],
   "source": [
    "# SLR Equation\n",
    "# Price=-173.30(Age)+20458.62"
   ]
  },
  {
   "cell_type": "code",
   "execution_count": null,
   "metadata": {},
   "outputs": [],
   "source": [
    "# MLR Equation\n",
    "# Price= -118.38(Age) -0.016(KM)....-10869"
   ]
  },
  {
   "cell_type": "code",
   "execution_count": null,
   "metadata": {},
   "outputs": [],
   "source": []
  },
  {
   "cell_type": "markdown",
   "metadata": {},
   "source": [
    "# Decision Trees"
   ]
  },
  {
   "cell_type": "code",
   "execution_count": 106,
   "metadata": {
    "scrolled": true
   },
   "outputs": [
    {
     "name": "stdout",
     "output_type": "stream",
     "text": [
      "DecisionTreeRegressor(max_depth=4)\n",
      "R2 value: 0.9195020149317672\n"
     ]
    },
    {
     "data": {
      "text/plain": [
       "<Axes: >"
      ]
     },
     "execution_count": 106,
     "metadata": {},
     "output_type": "execute_result"
    },
    {
     "data": {
      "image/png": "[encoded data removed]",
      "text/plain": [
       "<Figure size 640x480 with 1 Axes>"
      ]
     },
     "metadata": {},
     "output_type": "display_data"
    }
   ],
   "source": [
    "from sklearn.tree import DecisionTreeRegressor\n",
    "RegModel=DecisionTreeRegressor(max_depth=4,criterion=\"squared_error\")\n",
    "print(RegModel)\n",
    "DT=RegModel.fit(X_train,y_train)  \n",
    "from sklearn import metrics\n",
    "print('R2 value:', metrics.r2_score(y_train, DT.predict(X_train))) \n",
    "feature_importances=pd.Series(DT.feature_importances_ , index= Predictors) \n",
    "feature_importances.nlargest(10).plot(kind='barh')\n"
   ]
  },
  {
   "cell_type": "code",
   "execution_count": 107,
   "metadata": {},
   "outputs": [
    {
     "name": "stdout",
     "output_type": "stream",
     "text": [
      "DecisionTreeRegressor(max_depth=3)\n",
      "R2 Value: 0.8652701121862016\n",
      "\n",
      "##### Model Validation and Accuracy Calculations ##########\n",
      "      Revenue  PredictedRevenue\n",
      "0   704643.06          501135.0\n",
      "1   543490.90          599110.0\n",
      "2   697555.64          567793.0\n",
      "3   568947.60          501135.0\n",
      "4  1161144.85          997698.0\n",
      "Mean Accuracy on test data: 86.35590075378373\n",
      "Median Accuracy on test data: 88.8675559616416\n",
      "\n",
      "Accuracy values for 10-fold Cross Validation:\n",
      " [86.52027275 86.19232529 86.33792689 86.29876071 85.8701263  86.68771234\n",
      " 85.76233969 86.00351992 86.74393889 86.93399673]\n",
      "\n",
      "Final Average Accuracy of the model: 86.34\n"
     ]
    },
    {
     "data": {
      "image/png": "[encoded data removed]",
      "text/plain": [
       "<Figure size 640x480 with 1 Axes>"
      ]
     },
     "metadata": {},
     "output_type": "display_data"
    }
   ],
   "source": [
    "# Decision Trees (Multiple if-else statements!)\n",
    "from sklearn.tree import DecisionTreeRegressor \n",
    "RegModel = DecisionTreeRegressor(max_depth=3, criterion=\"squared_error\") \n",
    "# Good Range of hyper parameter Max_depth = 2 to 20\n",
    "\n",
    "# Printing all the parameters of Decision Tree \n",
    "print(RegModel)   \n",
    "\n",
    "# Creating the model on Training Data\n",
    "DT=RegModel.fit(X_train,y_train)\n",
    "\n",
    "from sklearn import metrics\n",
    "# Measuring Goodness of fit in Training data\n",
    "print('R2 Value:',metrics.r2_score(y_train, DT.predict(X_train)))\n",
    "\n",
    "# Plotting the feature importance for Top 10 most important columns\n",
    "%matplotlib inline\n",
    "feature_importances = pd.Series(DT.feature_importances_, index=Predictors)\n",
    "feature_importances.nlargest(10).plot(kind='barh')\n",
    "\n",
    "###########################################################################\n",
    "print('\\n##### Model Validation and Accuracy Calculations ##########')\n",
    "prediction=DT.predict(X_test)\n",
    "# Printing some sample values of prediction\n",
    "TestingDataResults=pd.DataFrame(data=X_test, columns=Predictors)\n",
    "TestingDataResults[TargetVariable]=y_test\n",
    "TestingDataResults[('Predicted'+TargetVariable)]=np.round(prediction)\n",
    "\n",
    "# Printing sample prediction values\n",
    "print(TestingDataResults[[TargetVariable,'Predicted'+TargetVariable]].head())\n",
    "\n",
    "# Calculating the error for each row\n",
    "TestingDataResults['APE']=100 * ((abs(\n",
    "  TestingDataResults['Revenue']-TestingDataResults['PredictedRevenue']))/TestingDataResults['Revenue'])\n",
    "\n",
    "MAPE=np.mean(TestingDataResults['APE'])\n",
    "MedianMAPE=np.median(TestingDataResults['APE'])\n",
    "\n",
    "Accuracy =100 - MAPE\n",
    "MedianAccuracy=100- MedianMAPE\n",
    "print('Mean Accuracy on test data:', Accuracy) # Can be negative sometimes due to outlier\n",
    "print('Median Accuracy on test data:', MedianAccuracy)\n",
    "\n",
    "\n",
    "# Defining a custom function to calculate accuracy\n",
    "# Make sure there are no zeros in the Target variable if you are using MAPE\n",
    "def Accuracy_Score(orig,pred):\n",
    "    MAPE = np.mean(100 * (np.abs(orig-pred)/orig))\n",
    "    #print('#'*70,'Accuracy:', 100-MAPE)\n",
    "    return(100-MAPE)\n",
    "\n",
    "# Custom Scoring MAPE calculation\n",
    "from sklearn.metrics import make_scorer\n",
    "custom_Scoring=make_scorer(Accuracy_Score, greater_is_better=True)\n",
    "\n",
    "# Importing cross validation function from sklearn\n",
    "from sklearn.model_selection import cross_val_score\n",
    "\n",
    "# Running 10-Fold Cross validation on a given algorithm\n",
    "# Passing full data X and y because the K-fold will split the data and automatically choose train/test\n",
    "Accuracy_Values=cross_val_score(RegModel, X , y, cv=10, scoring=custom_Scoring)\n",
    "print('\\nAccuracy values for 10-fold Cross Validation:\\n',Accuracy_Values)\n",
    "print('\\nFinal Average Accuracy of the model:', round(Accuracy_Values.mean(),2))"
   ]
  },
  {
   "cell_type": "markdown",
   "metadata": {
    "collapsed": true,
    "jupyter": {
     "outputs_hidden": true
    }
   },
   "source": [
    "### Plotting a Decision Tree"
   ]
  },
  {
   "cell_type": "code",
   "execution_count": null,
   "metadata": {},
   "outputs": [],
   "source": [
    "# Installing the required library for plotting the decision tree\n",
    "# Make sure to run all three commands\n",
    "# 1. Open anaconda Prompt / people with mac run on terminal\n",
    "# pip install graphviz\n",
    "# conda install graphviz\n",
    "# pip install pydotplus "
   ]
  },
  {
   "cell_type": "code",
   "execution_count": null,
   "metadata": {},
   "outputs": [],
   "source": [
    "# Adding graphviz path to the PATH env variable\n",
    "# Try to find \"dot.exe\" in your system and provide the path of that folder\n",
    "import os\n",
    "os.environ[\"PATH\"] += os.pathsep + 'C:/Users/Siddhali/anaconda3/Library/bin' "
   ]
  },
  {
   "cell_type": "code",
   "execution_count": null,
   "metadata": {},
   "outputs": [],
   "source": [
    "np.var(y_train)"
   ]
  },
  {
   "cell_type": "code",
   "execution_count": null,
   "metadata": {},
   "outputs": [],
   "source": [
    "np.mean(y_train)"
   ]
  },
  {
   "cell_type": "code",
   "execution_count": null,
   "metadata": {},
   "outputs": [],
   "source": [
    "# Load libraries\n",
    "from IPython.display import Image\n",
    "from sklearn import tree\n",
    "import pydotplus\n",
    "\n",
    "# Create DOT data\n",
    "dot_data = tree.export_graphviz(RegModel, out_file=None, \n",
    "                                feature_names=Predictors)\n",
    "# printing the rules\n",
    "print(dot_data)\n",
    "\n",
    "# Draw graph\n",
    "graph = pydotplus.graph_from_dot_data(dot_data)\n",
    "\n",
    "# Show graph\n",
    "Image(graph.create_png(), width=1200,height=900)\n",
    "# Double click on the graph to zoom in"
   ]
  },
  {
   "cell_type": "code",
   "execution_count": null,
   "metadata": {},
   "outputs": [],
   "source": [
    "# Saving the figure in current working directory\n",
    "import matplotlib.pyplot as plt\n",
    "currentFig=plt.gcf()\n",
    "currentFig.savefig('DecisionTree.JPEG')"
   ]
  },
  {
   "cell_type": "code",
   "execution_count": null,
   "metadata": {},
   "outputs": [],
   "source": []
  },
  {
   "cell_type": "code",
   "execution_count": null,
   "metadata": {},
   "outputs": [],
   "source": []
  }
 ],
 "metadata": {
  "kernelspec": {
   "display_name": "Python 3 (ipykernel)",
   "language": "python",
   "name": "python3"
  },
  "language_info": {
   "codemirror_mode": {
    "name": "ipython",
    "version": 3
   },
   "file_extension": ".py",
   "mimetype": "text/x-python",
   "name": "python",
   "nbconvert_exporter": "python",
   "pygments_lexer": "ipython3",
   "version": "3.11.7"
  }
 },
 "nbformat": 4,
 "nbformat_minor": 4
}
